{
  "nbformat": 4,
  "nbformat_minor": 0,
  "metadata": {
    "colab": {
      "name": "NaiveBayes_from_scratch.ipynb",
      "provenance": []
    },
    "kernelspec": {
      "name": "python3",
      "display_name": "Python 3"
    },
    "language_info": {
      "name": "python"
    }
  },
  "cells": [
    {
      "cell_type": "code",
      "execution_count": 1,
      "metadata": {
        "id": "ypXkT69gcTdm"
      },
      "outputs": [],
      "source": [
        "import numpy as np\n",
        "\n",
        "\n",
        "class GaussianNaiveBayes:\n",
        "    def __init__(self, X, y):\n",
        "      self.X = X\n",
        "      self.y = y\n",
        "      self.n_observations = X.shape[0]\n",
        "      self.n_features = X.shape[1]\n",
        "      self.n_labels = len(np.unique(y))\n",
        "      self.labels = np.unique(y)\n",
        "      self.eps = 1e-6\n",
        "      self.mean = {}\n",
        "      self.variance = {}\n",
        "      self.prior = {}\n",
        "\n",
        "    def fit(self, X, y):\n",
        "      for i, c in enumerate(np.unique(self.y)):\n",
        "        X_c = X[y == c]\n",
        "        self.mean[c] = np.mean(X_c, axis=0)\n",
        "        self.variance[c] = np.var(X_c, axis=0)\n",
        "        self.prior[c] = X_c.shape[0] / X.shape[0]\n",
        "\n",
        "    def predict(self, X):\n",
        "      log_prob = np.zeros((X.shape[0], self.n_labels))\n",
        "\n",
        "      for i, c in enumerate(np.unique(self.y)):\n",
        "          log_prior = np.log(self.prior[i])\n",
        "          # after dropping all constant terms. eps is added to sigma for numeric stability\n",
        "          log_cp = - 0.5 * np.sum(np.power(X - self.mean[c], 2) / (self.variance[c] + self.eps), 1) - 0.5 * np.sum(np.log(self.variance[c] + self.eps))\n",
        "          log_prob[:, i] = log_prior + log_cp\n",
        "      return self.labels[np.argmax(log_prob, 1)]"
      ]
    },
    {
      "cell_type": "markdown",
      "source": [
        "## Test on Iris Data"
      ],
      "metadata": {
        "id": "nq4KuyEuj3se"
      }
    },
    {
      "cell_type": "code",
      "source": [
        "#import iris dataset\n",
        "from sklearn import datasets\n",
        "\n",
        "data = datasets.load_iris(as_frame=True)\n",
        "\n",
        "#load only two features\n",
        "X = data[\"data\"]\n",
        "y = data[\"target\"]"
      ],
      "metadata": {
        "id": "7UeEpywGjhgB"
      },
      "execution_count": 2,
      "outputs": []
    },
    {
      "cell_type": "code",
      "source": [
        "X.isna().sum()"
      ],
      "metadata": {
        "colab": {
          "base_uri": "https://localhost:8080/"
        },
        "id": "O5oCFBnnq2cY",
        "outputId": "6ab775d7-67f1-4b97-ae37-a0fe2fad87cf"
      },
      "execution_count": 3,
      "outputs": [
        {
          "output_type": "execute_result",
          "data": {
            "text/plain": [
              "sepal length (cm)    0\n",
              "sepal width (cm)     0\n",
              "petal length (cm)    0\n",
              "petal width (cm)     0\n",
              "dtype: int64"
            ]
          },
          "metadata": {},
          "execution_count": 3
        }
      ]
    },
    {
      "cell_type": "code",
      "source": [
        "from sklearn.model_selection import train_test_split\n",
        "X_train, X_test, y_train, y_test = train_test_split( X, y, test_size=0.3, random_state=1, stratify=y)\n",
        "\n",
        "print('Labels counts in y:', y.value_counts())\n",
        "print('Labels counts in y_test:', y_test.value_counts())\n",
        "print('Labels counts in y_train:', y_train.value_counts())"
      ],
      "metadata": {
        "colab": {
          "base_uri": "https://localhost:8080/"
        },
        "id": "jsoXOft6q1uA",
        "outputId": "f69fcd48-6aab-4b24-aa97-5a9a311462cc"
      },
      "execution_count": 4,
      "outputs": [
        {
          "output_type": "stream",
          "name": "stdout",
          "text": [
            "Labels counts in y: 0    50\n",
            "1    50\n",
            "2    50\n",
            "Name: target, dtype: int64\n",
            "Labels counts in y_test: 2    15\n",
            "0    15\n",
            "1    15\n",
            "Name: target, dtype: int64\n",
            "Labels counts in y_train: 0    35\n",
            "2    35\n",
            "1    35\n",
            "Name: target, dtype: int64\n"
          ]
        }
      ]
    },
    {
      "cell_type": "code",
      "source": [
        "cf = GaussianNaiveBayes(X_train.to_numpy(), y_train.to_numpy())"
      ],
      "metadata": {
        "id": "wy7nhfuikghu"
      },
      "execution_count": 5,
      "outputs": []
    },
    {
      "cell_type": "code",
      "source": [
        "cf.fit(X_train.to_numpy(), y_train.to_numpy())"
      ],
      "metadata": {
        "id": "SmSkEP71k5QG"
      },
      "execution_count": 6,
      "outputs": []
    },
    {
      "cell_type": "code",
      "source": [
        "y_pred = cf.predict(X_test.to_numpy())"
      ],
      "metadata": {
        "id": "DLNwLCaNk7_M"
      },
      "execution_count": 7,
      "outputs": []
    },
    {
      "cell_type": "code",
      "source": [
        "print(f\"Accuracy: {np.sum(y_test.to_numpy()==y_pred)/X_test.shape[0]}\")"
      ],
      "metadata": {
        "colab": {
          "base_uri": "https://localhost:8080/"
        },
        "id": "KiOnBRnVmIBM",
        "outputId": "043fcb0a-57a8-4d7a-8387-081ac2f973bb"
      },
      "execution_count": 8,
      "outputs": [
        {
          "output_type": "stream",
          "name": "stdout",
          "text": [
            "Accuracy: 0.9777777777777777\n"
          ]
        }
      ]
    },
    {
      "cell_type": "code",
      "source": [
        "#Lets apply GaussianNB\n",
        "from sklearn.naive_bayes import GaussianNB\n",
        "gnb = GaussianNB()\n",
        "y_pred_sklearn = gnb.fit(X_train, y_train).predict(X_test)"
      ],
      "metadata": {
        "id": "ytp561nmn5P7"
      },
      "execution_count": 9,
      "outputs": []
    },
    {
      "cell_type": "code",
      "source": [
        "print(f\"Accuracy: {np.sum(y_test.to_numpy()==y_pred_sklearn)/X_test.shape[0]}\")"
      ],
      "metadata": {
        "colab": {
          "base_uri": "https://localhost:8080/"
        },
        "id": "q5FkNwX3oZz9",
        "outputId": "a429114d-d942-4869-ff6b-9cc4cbd8ec2e"
      },
      "execution_count": 10,
      "outputs": [
        {
          "output_type": "stream",
          "name": "stdout",
          "text": [
            "Accuracy: 0.9777777777777777\n"
          ]
        }
      ]
    },
    {
      "cell_type": "markdown",
      "source": [
        "## Matches with sklearn!!!"
      ],
      "metadata": {
        "id": "pTj3ANZvqrZB"
      }
    }
  ]
}