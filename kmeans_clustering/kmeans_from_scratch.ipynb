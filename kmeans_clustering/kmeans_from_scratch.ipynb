{
  "nbformat": 4,
  "nbformat_minor": 0,
  "metadata": {
    "colab": {
      "name": "kmeans_from_scratch.ipynb",
      "provenance": []
    },
    "kernelspec": {
      "name": "python3",
      "display_name": "Python 3"
    },
    "language_info": {
      "name": "python"
    }
  },
  "cells": [
    {
      "cell_type": "markdown",
      "source": [
        "#Implement KMeans clustering from scratch\n",
        "\n",
        "1. k-means clustering aims to partition observations into k clusters where each observation belongs to exactly one cluster.\n",
        "\n",
        "2. It falls into category of unsupervised learning method.\n",
        "\n",
        "3. Standard Algorithm of k-means starts by randomly initializing k centroids and then iteratively computing new centroids and then moving centroids to the center of the new formed clusters.\n",
        "https://en.wikipedia.org/wiki/K-means_clustering#Standard_algorithm_(naive_k-means)\n",
        "\n",
        "4. Standard implementations can fail to converge if initialization is bad. Variants of the standard algorithm fix this issue by clever initialization techniques."
      ],
      "metadata": {
        "id": "r0ug3iloFcFX"
      }
    },
    {
      "cell_type": "code",
      "source": [
        "import numpy as np"
      ],
      "metadata": {
        "id": "xS59NelCFc4r"
      },
      "execution_count": 2,
      "outputs": []
    },
    {
      "cell_type": "code",
      "source": [
        "class KMeansClustering:\n",
        "    def __init__(self, X, n_clusters, max_iterations, tolerance):\n",
        "        self.n_clusters = n_clusters\n",
        "        self.tol = tolerance\n",
        "        self.max_iterations = max_iterations\n",
        "        self.n_samples = X.shape[0]\n",
        "        self.n_features = X.shape[1]\n",
        "        self.centroids = []\n",
        "        self.initialize_centroids(X)\n",
        "\n",
        "    def initialize_centroids(self, X):\n",
        "        self.centroids = []\n",
        "        for k in range(self.n_clusters):\n",
        "            centroid = X[np.random.choice(range(self.n_samples))]\n",
        "            self.centroids.append(centroid)\n",
        "\n",
        "    def create_clusters(self, X, centroids):\n",
        "        # intialize cluster list\n",
        "        clusters = [[] for _ in range(self.n_clusters)]\n",
        "        # compute clusters\n",
        "        for idx, point in enumerate(X):\n",
        "          ## ignored sqrt to improve speed\n",
        "            closest_centroid = np.argmin(np.sum((point - centroids) ** 2, axis=1))\n",
        "            clusters[closest_centroid].append(idx)\n",
        "        return clusters\n",
        "\n",
        "    def update_centroids(self, clusters, X):\n",
        "        centroids = np.zeros((self.n_clusters, self.n_features))\n",
        "        for idx, cluster in enumerate(clusters):\n",
        "            new_centroid = np.mean(X[cluster], axis=0)\n",
        "            centroids[idx] = new_centroid\n",
        "        return centroids\n",
        "\n",
        "    def predict(self, centroids, X):\n",
        "        y_pred = np.zeros(X.shape[0])\n",
        "        clusters = self.create_clusters(X, centroids)\n",
        "        for cluster_idx, cluster in enumerate(clusters):\n",
        "            for sample_idx in cluster:\n",
        "                y_pred[sample_idx] = cluster_idx\n",
        "        return y_pred\n",
        "\n",
        "    def fit(self, X):\n",
        "        self.initialize_centroids(X)\n",
        "\n",
        "        for it in range(self.max_iterations):\n",
        "            clusters = self.create_clusters(X, self.centroids)\n",
        "            previous_centroids = self.centroids\n",
        "            self.centroids = self.update_centroids(clusters, X)\n",
        "            diff = abs(self.centroids - previous_centroids)\n",
        "            diff_over_threshold = diff > self.tol\n",
        "            if not diff_over_threshold.any():\n",
        "                print(\"Converged!!!\")\n",
        "                break\n",
        "            else:\n",
        "                print(f\"max diff: {np.amax(diff)}\")\n",
        "\n",
        "        # Get label predictions\n",
        "        y_pred = self.predict(self.centroids, X)\n",
        "        return y_pred"
      ],
      "metadata": {
        "id": "kHHPqckKFc2I"
      },
      "execution_count": 45,
      "outputs": []
    },
    {
      "cell_type": "markdown",
      "source": [
        "## Predict on Hand written digits data"
      ],
      "metadata": {
        "id": "WhYc4BuUJeM9"
      }
    },
    {
      "cell_type": "code",
      "source": [
        "import numpy as np\n",
        "from sklearn.datasets import load_digits\n",
        "\n",
        "data, labels = load_digits(return_X_y=True)\n",
        "(n_samples, n_features), n_digits = data.shape, np.unique(labels).size\n",
        "\n",
        "print(f\"# digits: {n_digits}; # samples: {n_samples}; # features {n_features}\")"
      ],
      "metadata": {
        "id": "T62lkTKMJvz8",
        "colab": {
          "base_uri": "https://localhost:8080/"
        },
        "outputId": "cda1664f-7bfd-4487-d18f-56a36aee1413"
      },
      "execution_count": 3,
      "outputs": [
        {
          "output_type": "stream",
          "name": "stdout",
          "text": [
            "# digits: 10; # samples: 1797; # features 64\n"
          ]
        }
      ]
    },
    {
      "cell_type": "code",
      "source": [
        "from sklearn.preprocessing import StandardScaler\n",
        "sc = StandardScaler()\n",
        "sc.fit(data)\n",
        "data_std = sc.transform(data)"
      ],
      "metadata": {
        "id": "hyiAhSI6UVVE"
      },
      "execution_count": 8,
      "outputs": []
    },
    {
      "cell_type": "code",
      "source": [
        "kmeans = KMeansClustering(data_std, n_clusters=n_digits, max_iterations=100)"
      ],
      "metadata": {
        "id": "TdNSPlXtLs-N"
      },
      "execution_count": 35,
      "outputs": []
    },
    {
      "cell_type": "code",
      "source": [
        "y_pred = kmeans.fit(data_std)"
      ],
      "metadata": {
        "colab": {
          "base_uri": "https://localhost:8080/"
        },
        "id": "dNmqRQu7TzLt",
        "outputId": "daaed2df-425f-42de-88a5-086d574f63d0"
      },
      "execution_count": 36,
      "outputs": [
        {
          "output_type": "stream",
          "name": "stdout",
          "text": [
            "max diff: 3.3625220244698797\n",
            "max diff: 1.3159987016134556\n",
            "max diff: 1.2273267096842158\n",
            "max diff: 1.4440742521732646\n",
            "max diff: 0.8572392971068377\n",
            "max diff: 0.4498348828358454\n",
            "max diff: 0.23296165696914806\n",
            "max diff: 0.1377288848448266\n",
            "max diff: 0.26674661225554364\n",
            "max diff: 0.3442384074007262\n",
            "max diff: 0.18809326394020642\n",
            "max diff: 0.12490309540764288\n",
            "max diff: 0.12341883615599578\n",
            "max diff: 0.0803187735630449\n",
            "max diff: 0.09425128116962356\n",
            "max diff: 0.1827227682808808\n",
            "max diff: 0.220851864809946\n",
            "max diff: 0.08117176549114813\n",
            "max diff: 0.052506107815889214\n",
            "max diff: 0.03773223137071052\n",
            "max diff: 0.042631652255554986\n",
            "max diff: 0.03307209934370914\n",
            "max diff: 0.042363743743456306\n",
            "max diff: 0.05520143379679521\n",
            "max diff: 0.0568549932719522\n",
            "max diff: 0.16557286253965128\n",
            "max diff: 0.15711433887202508\n",
            "max diff: 0.1307250986157058\n",
            "max diff: 0.10984999562136644\n",
            "max diff: 0.069222128893494\n",
            "max diff: 0.21890355960887217\n",
            "max diff: 0.03298670567682027\n",
            "max diff: 0.018306910324953796\n",
            "max diff: 0.0439611272441533\n",
            "Converged!!!\n"
          ]
        }
      ]
    },
    {
      "cell_type": "markdown",
      "source": [
        "## Plot data along first 2 PCA components. (also refits data on reduced pca data)"
      ],
      "metadata": {
        "id": "xGWjsrG-YvB1"
      }
    },
    {
      "cell_type": "code",
      "source": [
        "import matplotlib.pyplot as plt\n",
        "from sklearn.decomposition import PCA\n",
        "\n",
        "reduced_data = PCA(n_components=2).fit_transform(data)\n",
        "kmeans = KMeansClustering(reduced_data, n_clusters=n_digits, max_iterations=20, tolerance=1e-4)\n",
        "\n",
        "# Step size of the mesh. Decrease to increase the quality of the VQ.\n",
        "h = 0.02  # point in the mesh [x_min, x_max]x[y_min, y_max].\n",
        "\n",
        "# Plot the decision boundary. For that, we will assign a color to each\n",
        "x_min, x_max = reduced_data[:, 0].min() - 1, reduced_data[:, 0].max() + 1\n",
        "y_min, y_max = reduced_data[:, 1].min() - 1, reduced_data[:, 1].max() + 1\n",
        "xx, yy = np.meshgrid(np.arange(x_min, x_max, h), np.arange(y_min, y_max, h))\n",
        "\n",
        "# Obtain labels for each point in mesh. Use last trained model.\n",
        "kmeans.fit(reduced_data)\n",
        "Z = kmeans.predict(kmeans.centroids, np.c_[xx.ravel(), yy.ravel()])\n",
        "\n",
        "# Put the result into a color plot\n",
        "Z = Z.reshape(xx.shape)\n",
        "plt.figure(1)\n",
        "plt.clf()\n",
        "plt.imshow(\n",
        "    Z,\n",
        "    interpolation=\"nearest\",\n",
        "    extent=(xx.min(), xx.max(), yy.min(), yy.max()),\n",
        "    cmap=plt.cm.Paired,\n",
        "    aspect=\"auto\",\n",
        "    origin=\"lower\",\n",
        ")\n",
        "\n",
        "plt.plot(reduced_data[:, 0], reduced_data[:, 1], \"k.\", markersize=2)\n",
        "# Plot the centroids as a white X\n",
        "centroids = kmeans.centroids\n",
        "plt.scatter(\n",
        "    centroids[:, 0],\n",
        "    centroids[:, 1],\n",
        "    marker=\"x\",\n",
        "    s=169,\n",
        "    linewidths=3,\n",
        "    color=\"w\",\n",
        "    zorder=10,\n",
        ")\n",
        "plt.title(\n",
        "    \"K-means clustering on the digits dataset (PCA-reduced data)\\n\"\n",
        "    \"Centroids are marked with white cross\"\n",
        ")\n",
        "plt.xlim(x_min, x_max)\n",
        "plt.ylim(y_min, y_max)\n",
        "plt.xticks(())\n",
        "plt.yticks(())\n",
        "plt.show()"
      ],
      "metadata": {
        "colab": {
          "base_uri": "https://localhost:8080/",
          "height": 640
        },
        "id": "z-hYgQAKXGk8",
        "outputId": "85e3be23-478c-4fd0-d1f9-2ce56562a64c"
      },
      "execution_count": 46,
      "outputs": [
        {
          "output_type": "stream",
          "name": "stdout",
          "text": [
            "max diff: 9.522994808074142\n",
            "max diff: 3.0896775761229325\n",
            "max diff: 2.0076457200147484\n",
            "max diff: 1.784984715700869\n",
            "max diff: 2.0913159881587395\n",
            "max diff: 2.3840982560776123\n",
            "max diff: 2.079493326880473\n",
            "max diff: 0.8863496852658791\n",
            "max diff: 0.6522578983090562\n",
            "max diff: 0.5631403335070517\n",
            "max diff: 0.5772880695989204\n",
            "max diff: 0.7755209504796241\n",
            "max diff: 0.6467716671152335\n",
            "max diff: 0.5994912717675103\n",
            "max diff: 0.5334721998292977\n",
            "max diff: 0.5002634902728929\n",
            "max diff: 0.3949392235498883\n",
            "max diff: 0.4540531620998167\n",
            "max diff: 0.561801370858479\n",
            "max diff: 0.45437709939761817\n"
          ]
        },
        {
          "output_type": "display_data",
          "data": {
            "text/plain": [
              "<Figure size 432x288 with 1 Axes>"
            ],
            "image/png": "[encoded data removed]"
          },
          "metadata": {}
        }
      ]
    },
    {
      "cell_type": "code",
      "source": [
        "y_pred = kmeans.predict(kmeans.centroids, reduced_data)"
      ],
      "metadata": {
        "id": "ieY0H9f0ZYKh"
      },
      "execution_count": 47,
      "outputs": []
    },
    {
      "cell_type": "code",
      "source": [
        ""
      ],
      "metadata": {
        "id": "uAkHfrhZzgQh"
      },
      "execution_count": null,
      "outputs": []
    }
  ]
}