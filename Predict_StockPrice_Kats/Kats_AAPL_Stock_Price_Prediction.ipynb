{
  "nbformat": 4,
  "nbformat_minor": 0,
  "metadata": {
    "colab": {
      "name": "Kats: AAPL_Stock_Price_Prediction.ipynb",
      "provenance": []
    },
    "kernelspec": {
      "name": "python3",
      "display_name": "Python 3"
    },
    "language_info": {
      "name": "python"
    }
  },
  "cells": [
    {
      "cell_type": "markdown",
      "source": [
        "#Goal: \n",
        "\n",
        "1.   Predict AAPL next day close price.\n",
        "2.   Use this to make a Buy or Sell Trading Decision. If Next Day Open < Predicted Price. Buy AAPL otherwise Sell."
      ],
      "metadata": {
        "id": "tGaqwXvA_G7S"
      }
    },
    {
      "cell_type": "code",
      "execution_count": 1,
      "metadata": {
        "id": "Y7g38g-kp_YT"
      },
      "outputs": [],
      "source": [
        "import numpy as np\n",
        "import pandas as pd\n",
        "import matplotlib.pyplot as plt\n",
        "import seaborn as sns\n",
        "\n",
        "pd.options.display.max_columns = 100\n",
        "\n",
        "%matplotlib inline"
      ]
    },
    {
      "cell_type": "code",
      "source": [
        "df = pd.read_csv('https://raw.githubusercontent.com/asreddyIITB/ml/main/Predict_StockPrice_Kats/data/AAPL.csv',\n",
        "                 parse_dates=[\"Date\"], \n",
        "                 index_col=[\"Date\"])"
      ],
      "metadata": {
        "id": "bgEFlmiprHl3"
      },
      "execution_count": 2,
      "outputs": []
    },
    {
      "cell_type": "code",
      "source": [
        "df.head()"
      ],
      "metadata": {
        "colab": {
          "base_uri": "https://localhost:8080/",
          "height": 238
        },
        "id": "CxA86sskre3e",
        "outputId": "f43b88b0-40d7-416b-f05a-4966f74e2c20"
      },
      "execution_count": 3,
      "outputs": [
        {
          "output_type": "execute_result",
          "data": {
            "text/plain": [
              "                 Open       High        Low      Close  Adj Close     Volume\n",
              "Date                                                                        \n",
              "2016-03-22  26.312500  26.822500  26.302500  26.680000  24.668690  129777600\n",
              "2016-03-23  26.620001  26.767500  26.475000  26.532499  24.532307  102814000\n",
              "2016-03-24  26.367500  26.562500  26.222500  26.417500  24.425974  104532000\n",
              "2016-03-28  26.500000  26.547501  26.264999  26.297501  24.315018   77645600\n",
              "2016-03-29  26.222500  26.947500  26.219999  26.920000  24.890591  124760400"
            ],
            "text/html": [
              "\n",
              "  <div id=\"df-a55377f2-ba79-40bd-b528-ed99ec52ebae\">\n",
              "    <div class=\"colab-df-container\">\n",
              "      <div>\n",
              "<style scoped>\n",
              "    .dataframe tbody tr th:only-of-type {\n",
              "        vertical-align: middle;\n",
              "    }\n",
              "\n",
              "    .dataframe tbody tr th {\n",
              "        vertical-align: top;\n",
              "    }\n",
              "\n",
              "    .dataframe thead th {\n",
              "        text-align: right;\n",
              "    }\n",
              "</style>\n",
              "<table border=\"1\" class=\"dataframe\">\n",
              "  <thead>\n",
              "    <tr style=\"text-align: right;\">\n",
              "      <th></th>\n",
              "      <th>Open</th>\n",
              "      <th>High</th>\n",
              "      <th>Low</th>\n",
              "      <th>Close</th>\n",
              "      <th>Adj Close</th>\n",
              "      <th>Volume</th>\n",
              "    </tr>\n",
              "    <tr>\n",
              "      <th>Date</th>\n",
              "      <th></th>\n",
              "      <th></th>\n",
              "      <th></th>\n",
              "      <th></th>\n",
              "      <th></th>\n",
              "      <th></th>\n",
              "    </tr>\n",
              "  </thead>\n",
              "  <tbody>\n",
              "    <tr>\n",
              "      <th>2016-03-22</th>\n",
              "      <td>26.312500</td>\n",
              "      <td>26.822500</td>\n",
              "      <td>26.302500</td>\n",
              "      <td>26.680000</td>\n",
              "      <td>24.668690</td>\n",
              "      <td>129777600</td>\n",
              "    </tr>\n",
              "    <tr>\n",
              "      <th>2016-03-23</th>\n",
              "      <td>26.620001</td>\n",
              "      <td>26.767500</td>\n",
              "      <td>26.475000</td>\n",
              "      <td>26.532499</td>\n",
              "      <td>24.532307</td>\n",
              "      <td>102814000</td>\n",
              "    </tr>\n",
              "    <tr>\n",
              "      <th>2016-03-24</th>\n",
              "      <td>26.367500</td>\n",
              "      <td>26.562500</td>\n",
              "      <td>26.222500</td>\n",
              "      <td>26.417500</td>\n",
              "      <td>24.425974</td>\n",
              "      <td>104532000</td>\n",
              "    </tr>\n",
              "    <tr>\n",
              "      <th>2016-03-28</th>\n",
              "      <td>26.500000</td>\n",
              "      <td>26.547501</td>\n",
              "      <td>26.264999</td>\n",
              "      <td>26.297501</td>\n",
              "      <td>24.315018</td>\n",
              "      <td>77645600</td>\n",
              "    </tr>\n",
              "    <tr>\n",
              "      <th>2016-03-29</th>\n",
              "      <td>26.222500</td>\n",
              "      <td>26.947500</td>\n",
              "      <td>26.219999</td>\n",
              "      <td>26.920000</td>\n",
              "      <td>24.890591</td>\n",
              "      <td>124760400</td>\n",
              "    </tr>\n",
              "  </tbody>\n",
              "</table>\n",
              "</div>\n",
              "      <button class=\"colab-df-convert\" onclick=\"convertToInteractive('df-a55377f2-ba79-40bd-b528-ed99ec52ebae')\"\n",
              "              title=\"Convert this dataframe to an interactive table.\"\n",
              "              style=\"display:none;\">\n",
              "        \n",
              "  <svg xmlns=\"http://www.w3.org/2000/svg\" height=\"24px\"viewBox=\"0 0 24 24\"\n",
              "       width=\"24px\">\n",
              "    <path d=\"M0 0h24v24H0V0z\" fill=\"none\"/>\n",
              "    <path d=\"M18.56 5.44l.94 2.06.94-2.06 2.06-.94-2.06-.94-.94-2.06-.94 2.06-2.06.94zm-11 1L8.5 8.5l.94-2.06 2.06-.94-2.06-.94L8.5 2.5l-.94 2.06-2.06.94zm10 10l.94 2.06.94-2.06 2.06-.94-2.06-.94-.94-2.06-.94 2.06-2.06.94z\"/><path d=\"M17.41 7.96l-1.37-1.37c-.4-.4-.92-.59-1.43-.59-.52 0-1.04.2-1.43.59L10.3 9.45l-7.72 7.72c-.78.78-.78 2.05 0 2.83L4 21.41c.39.39.9.59 1.41.59.51 0 1.02-.2 1.41-.59l7.78-7.78 2.81-2.81c.8-.78.8-2.07 0-2.86zM5.41 20L4 18.59l7.72-7.72 1.47 1.35L5.41 20z\"/>\n",
              "  </svg>\n",
              "      </button>\n",
              "      \n",
              "  <style>\n",
              "    .colab-df-container {\n",
              "      display:flex;\n",
              "      flex-wrap:wrap;\n",
              "      gap: 12px;\n",
              "    }\n",
              "\n",
              "    .colab-df-convert {\n",
              "      background-color: #E8F0FE;\n",
              "      border: none;\n",
              "      border-radius: 50%;\n",
              "      cursor: pointer;\n",
              "      display: none;\n",
              "      fill: #1967D2;\n",
              "      height: 32px;\n",
              "      padding: 0 0 0 0;\n",
              "      width: 32px;\n",
              "    }\n",
              "\n",
              "    .colab-df-convert:hover {\n",
              "      background-color: #E2EBFA;\n",
              "      box-shadow: 0px 1px 2px rgba(60, 64, 67, 0.3), 0px 1px 3px 1px rgba(60, 64, 67, 0.15);\n",
              "      fill: #174EA6;\n",
              "    }\n",
              "\n",
              "    [theme=dark] .colab-df-convert {\n",
              "      background-color: #3B4455;\n",
              "      fill: #D2E3FC;\n",
              "    }\n",
              "\n",
              "    [theme=dark] .colab-df-convert:hover {\n",
              "      background-color: #434B5C;\n",
              "      box-shadow: 0px 1px 3px 1px rgba(0, 0, 0, 0.15);\n",
              "      filter: drop-shadow(0px 1px 2px rgba(0, 0, 0, 0.3));\n",
              "      fill: #FFFFFF;\n",
              "    }\n",
              "  </style>\n",
              "\n",
              "      <script>\n",
              "        const buttonEl =\n",
              "          document.querySelector('#df-a55377f2-ba79-40bd-b528-ed99ec52ebae button.colab-df-convert');\n",
              "        buttonEl.style.display =\n",
              "          google.colab.kernel.accessAllowed ? 'block' : 'none';\n",
              "\n",
              "        async function convertToInteractive(key) {\n",
              "          const element = document.querySelector('#df-a55377f2-ba79-40bd-b528-ed99ec52ebae');\n",
              "          const dataTable =\n",
              "            await google.colab.kernel.invokeFunction('convertToInteractive',\n",
              "                                                     [key], {});\n",
              "          if (!dataTable) return;\n",
              "\n",
              "          const docLinkHtml = 'Like what you see? Visit the ' +\n",
              "            '<a target=\"_blank\" href=https://colab.research.google.com/notebooks/data_table.ipynb>data table notebook</a>'\n",
              "            + ' to learn more about interactive tables.';\n",
              "          element.innerHTML = '';\n",
              "          dataTable['output_type'] = 'display_data';\n",
              "          await google.colab.output.renderOutput(dataTable, element);\n",
              "          const docLink = document.createElement('div');\n",
              "          docLink.innerHTML = docLinkHtml;\n",
              "          element.appendChild(docLink);\n",
              "        }\n",
              "      </script>\n",
              "    </div>\n",
              "  </div>\n",
              "  "
            ]
          },
          "metadata": {},
          "execution_count": 3
        }
      ]
    },
    {
      "cell_type": "code",
      "source": [
        "df = df.asfreq('B')"
      ],
      "metadata": {
        "id": "kYVq7eFB-p2C"
      },
      "execution_count": 4,
      "outputs": []
    },
    {
      "cell_type": "code",
      "source": [
        "df.head()"
      ],
      "metadata": {
        "colab": {
          "base_uri": "https://localhost:8080/",
          "height": 238
        },
        "id": "v4u7olvxkL-e",
        "outputId": "be33a0ae-58c7-4872-e4b8-257bafb19369"
      },
      "execution_count": 5,
      "outputs": [
        {
          "output_type": "execute_result",
          "data": {
            "text/plain": [
              "                 Open       High        Low      Close  Adj Close       Volume\n",
              "Date                                                                          \n",
              "2016-03-22  26.312500  26.822500  26.302500  26.680000  24.668690  129777600.0\n",
              "2016-03-23  26.620001  26.767500  26.475000  26.532499  24.532307  102814000.0\n",
              "2016-03-24  26.367500  26.562500  26.222500  26.417500  24.425974  104532000.0\n",
              "2016-03-25        NaN        NaN        NaN        NaN        NaN          NaN\n",
              "2016-03-28  26.500000  26.547501  26.264999  26.297501  24.315018   77645600.0"
            ],
            "text/html": [
              "\n",
              "  <div id=\"df-12fae39c-c2ca-4e22-9dbe-675ecff713dc\">\n",
              "    <div class=\"colab-df-container\">\n",
              "      <div>\n",
              "<style scoped>\n",
              "    .dataframe tbody tr th:only-of-type {\n",
              "        vertical-align: middle;\n",
              "    }\n",
              "\n",
              "    .dataframe tbody tr th {\n",
              "        vertical-align: top;\n",
              "    }\n",
              "\n",
              "    .dataframe thead th {\n",
              "        text-align: right;\n",
              "    }\n",
              "</style>\n",
              "<table border=\"1\" class=\"dataframe\">\n",
              "  <thead>\n",
              "    <tr style=\"text-align: right;\">\n",
              "      <th></th>\n",
              "      <th>Open</th>\n",
              "      <th>High</th>\n",
              "      <th>Low</th>\n",
              "      <th>Close</th>\n",
              "      <th>Adj Close</th>\n",
              "      <th>Volume</th>\n",
              "    </tr>\n",
              "    <tr>\n",
              "      <th>Date</th>\n",
              "      <th></th>\n",
              "      <th></th>\n",
              "      <th></th>\n",
              "      <th></th>\n",
              "      <th></th>\n",
              "      <th></th>\n",
              "    </tr>\n",
              "  </thead>\n",
              "  <tbody>\n",
              "    <tr>\n",
              "      <th>2016-03-22</th>\n",
              "      <td>26.312500</td>\n",
              "      <td>26.822500</td>\n",
              "      <td>26.302500</td>\n",
              "      <td>26.680000</td>\n",
              "      <td>24.668690</td>\n",
              "      <td>129777600.0</td>\n",
              "    </tr>\n",
              "    <tr>\n",
              "      <th>2016-03-23</th>\n",
              "      <td>26.620001</td>\n",
              "      <td>26.767500</td>\n",
              "      <td>26.475000</td>\n",
              "      <td>26.532499</td>\n",
              "      <td>24.532307</td>\n",
              "      <td>102814000.0</td>\n",
              "    </tr>\n",
              "    <tr>\n",
              "      <th>2016-03-24</th>\n",
              "      <td>26.367500</td>\n",
              "      <td>26.562500</td>\n",
              "      <td>26.222500</td>\n",
              "      <td>26.417500</td>\n",
              "      <td>24.425974</td>\n",
              "      <td>104532000.0</td>\n",
              "    </tr>\n",
              "    <tr>\n",
              "      <th>2016-03-25</th>\n",
              "      <td>NaN</td>\n",
              "      <td>NaN</td>\n",
              "      <td>NaN</td>\n",
              "      <td>NaN</td>\n",
              "      <td>NaN</td>\n",
              "      <td>NaN</td>\n",
              "    </tr>\n",
              "    <tr>\n",
              "      <th>2016-03-28</th>\n",
              "      <td>26.500000</td>\n",
              "      <td>26.547501</td>\n",
              "      <td>26.264999</td>\n",
              "      <td>26.297501</td>\n",
              "      <td>24.315018</td>\n",
              "      <td>77645600.0</td>\n",
              "    </tr>\n",
              "  </tbody>\n",
              "</table>\n",
              "</div>\n",
              "      <button class=\"colab-df-convert\" onclick=\"convertToInteractive('df-12fae39c-c2ca-4e22-9dbe-675ecff713dc')\"\n",
              "              title=\"Convert this dataframe to an interactive table.\"\n",
              "              style=\"display:none;\">\n",
              "        \n",
              "  <svg xmlns=\"http://www.w3.org/2000/svg\" height=\"24px\"viewBox=\"0 0 24 24\"\n",
              "       width=\"24px\">\n",
              "    <path d=\"M0 0h24v24H0V0z\" fill=\"none\"/>\n",
              "    <path d=\"M18.56 5.44l.94 2.06.94-2.06 2.06-.94-2.06-.94-.94-2.06-.94 2.06-2.06.94zm-11 1L8.5 8.5l.94-2.06 2.06-.94-2.06-.94L8.5 2.5l-.94 2.06-2.06.94zm10 10l.94 2.06.94-2.06 2.06-.94-2.06-.94-.94-2.06-.94 2.06-2.06.94z\"/><path d=\"M17.41 7.96l-1.37-1.37c-.4-.4-.92-.59-1.43-.59-.52 0-1.04.2-1.43.59L10.3 9.45l-7.72 7.72c-.78.78-.78 2.05 0 2.83L4 21.41c.39.39.9.59 1.41.59.51 0 1.02-.2 1.41-.59l7.78-7.78 2.81-2.81c.8-.78.8-2.07 0-2.86zM5.41 20L4 18.59l7.72-7.72 1.47 1.35L5.41 20z\"/>\n",
              "  </svg>\n",
              "      </button>\n",
              "      \n",
              "  <style>\n",
              "    .colab-df-container {\n",
              "      display:flex;\n",
              "      flex-wrap:wrap;\n",
              "      gap: 12px;\n",
              "    }\n",
              "\n",
              "    .colab-df-convert {\n",
              "      background-color: #E8F0FE;\n",
              "      border: none;\n",
              "      border-radius: 50%;\n",
              "      cursor: pointer;\n",
              "      display: none;\n",
              "      fill: #1967D2;\n",
              "      height: 32px;\n",
              "      padding: 0 0 0 0;\n",
              "      width: 32px;\n",
              "    }\n",
              "\n",
              "    .colab-df-convert:hover {\n",
              "      background-color: #E2EBFA;\n",
              "      box-shadow: 0px 1px 2px rgba(60, 64, 67, 0.3), 0px 1px 3px 1px rgba(60, 64, 67, 0.15);\n",
              "      fill: #174EA6;\n",
              "    }\n",
              "\n",
              "    [theme=dark] .colab-df-convert {\n",
              "      background-color: #3B4455;\n",
              "      fill: #D2E3FC;\n",
              "    }\n",
              "\n",
              "    [theme=dark] .colab-df-convert:hover {\n",
              "      background-color: #434B5C;\n",
              "      box-shadow: 0px 1px 3px 1px rgba(0, 0, 0, 0.15);\n",
              "      filter: drop-shadow(0px 1px 2px rgba(0, 0, 0, 0.3));\n",
              "      fill: #FFFFFF;\n",
              "    }\n",
              "  </style>\n",
              "\n",
              "      <script>\n",
              "        const buttonEl =\n",
              "          document.querySelector('#df-12fae39c-c2ca-4e22-9dbe-675ecff713dc button.colab-df-convert');\n",
              "        buttonEl.style.display =\n",
              "          google.colab.kernel.accessAllowed ? 'block' : 'none';\n",
              "\n",
              "        async function convertToInteractive(key) {\n",
              "          const element = document.querySelector('#df-12fae39c-c2ca-4e22-9dbe-675ecff713dc');\n",
              "          const dataTable =\n",
              "            await google.colab.kernel.invokeFunction('convertToInteractive',\n",
              "                                                     [key], {});\n",
              "          if (!dataTable) return;\n",
              "\n",
              "          const docLinkHtml = 'Like what you see? Visit the ' +\n",
              "            '<a target=\"_blank\" href=https://colab.research.google.com/notebooks/data_table.ipynb>data table notebook</a>'\n",
              "            + ' to learn more about interactive tables.';\n",
              "          element.innerHTML = '';\n",
              "          dataTable['output_type'] = 'display_data';\n",
              "          await google.colab.output.renderOutput(dataTable, element);\n",
              "          const docLink = document.createElement('div');\n",
              "          docLink.innerHTML = docLinkHtml;\n",
              "          element.appendChild(docLink);\n",
              "        }\n",
              "      </script>\n",
              "    </div>\n",
              "  </div>\n",
              "  "
            ]
          },
          "metadata": {},
          "execution_count": 5
        }
      ]
    },
    {
      "cell_type": "code",
      "source": [
        "df.info()"
      ],
      "metadata": {
        "colab": {
          "base_uri": "https://localhost:8080/"
        },
        "id": "PIit9SgJ-2W2",
        "outputId": "ac6eb92b-fda4-4b3b-ee54-d10cc928dd3d"
      },
      "execution_count": 6,
      "outputs": [
        {
          "output_type": "stream",
          "name": "stdout",
          "text": [
            "<class 'pandas.core.frame.DataFrame'>\n",
            "DatetimeIndex: 1565 entries, 2016-03-22 to 2022-03-21\n",
            "Freq: B\n",
            "Data columns (total 6 columns):\n",
            " #   Column     Non-Null Count  Dtype  \n",
            "---  ------     --------------  -----  \n",
            " 0   Open       1511 non-null   float64\n",
            " 1   High       1511 non-null   float64\n",
            " 2   Low        1511 non-null   float64\n",
            " 3   Close      1511 non-null   float64\n",
            " 4   Adj Close  1511 non-null   float64\n",
            " 5   Volume     1511 non-null   float64\n",
            "dtypes: float64(6)\n",
            "memory usage: 85.6 KB\n"
          ]
        }
      ]
    },
    {
      "cell_type": "code",
      "source": [
        "df.fillna(method='ffill', inplace=True)"
      ],
      "metadata": {
        "id": "IJryWVUbkjDF"
      },
      "execution_count": 7,
      "outputs": []
    },
    {
      "cell_type": "code",
      "source": [
        "df['returns'] = df['Close'].pct_change(1)"
      ],
      "metadata": {
        "id": "nEJjIp3DrgLk"
      },
      "execution_count": 8,
      "outputs": []
    },
    {
      "cell_type": "code",
      "source": [
        "df['returns'].fillna(0.0, inplace=True)"
      ],
      "metadata": {
        "id": "UwRHpnQQ-riN"
      },
      "execution_count": 9,
      "outputs": []
    },
    {
      "cell_type": "code",
      "source": [
        "df.shape"
      ],
      "metadata": {
        "colab": {
          "base_uri": "https://localhost:8080/"
        },
        "id": "5Ki5Fe6ik5HQ",
        "outputId": "a8744c6a-7663-4bdd-98af-711b6ba823d6"
      },
      "execution_count": 11,
      "outputs": [
        {
          "output_type": "execute_result",
          "data": {
            "text/plain": [
              "(1565, 7)"
            ]
          },
          "metadata": {},
          "execution_count": 11
        }
      ]
    },
    {
      "cell_type": "code",
      "source": [
        "df.info()"
      ],
      "metadata": {
        "colab": {
          "base_uri": "https://localhost:8080/"
        },
        "id": "2BjR4hhmkwer",
        "outputId": "bd08397e-a616-409f-b15e-87a1d0d55ef5"
      },
      "execution_count": 10,
      "outputs": [
        {
          "output_type": "stream",
          "name": "stdout",
          "text": [
            "<class 'pandas.core.frame.DataFrame'>\n",
            "DatetimeIndex: 1565 entries, 2016-03-22 to 2022-03-21\n",
            "Freq: B\n",
            "Data columns (total 7 columns):\n",
            " #   Column     Non-Null Count  Dtype  \n",
            "---  ------     --------------  -----  \n",
            " 0   Open       1565 non-null   float64\n",
            " 1   High       1565 non-null   float64\n",
            " 2   Low        1565 non-null   float64\n",
            " 3   Close      1565 non-null   float64\n",
            " 4   Adj Close  1565 non-null   float64\n",
            " 5   Volume     1565 non-null   float64\n",
            " 6   returns    1565 non-null   float64\n",
            "dtypes: float64(7)\n",
            "memory usage: 97.8 KB\n"
          ]
        }
      ]
    },
    {
      "cell_type": "markdown",
      "source": [
        "## Base Model: Using Kats library lets try to predict future return based on data from last N days. \n",
        ">To start with I will use N = 5 (I will call this LOOK_BACK_WINDOW)"
      ],
      "metadata": {
        "id": "xD7nnzxOAdO6"
      }
    },
    {
      "cell_type": "code",
      "source": [
        "LOOK_BACK_WINDOW = 5\n",
        "\n",
        "for i in range(LOOK_BACK_WINDOW): \n",
        "  df[f\"returns_{i+1}\"] = df[\"returns\"].shift(periods=i+1)"
      ],
      "metadata": {
        "id": "OVq1wmqsAM9R"
      },
      "execution_count": 12,
      "outputs": []
    },
    {
      "cell_type": "code",
      "source": [
        "df.head(10)"
      ],
      "metadata": {
        "colab": {
          "base_uri": "https://localhost:8080/",
          "height": 394
        },
        "id": "LuoDKJoD_DFH",
        "outputId": "b8eda61a-9e0a-4d38-85e5-845549923a51"
      },
      "execution_count": 13,
      "outputs": [
        {
          "output_type": "execute_result",
          "data": {
            "text/plain": [
              "                 Open       High        Low      Close  Adj Close  \\\n",
              "Date                                                                \n",
              "2016-03-22  26.312500  26.822500  26.302500  26.680000  24.668690   \n",
              "2016-03-23  26.620001  26.767500  26.475000  26.532499  24.532307   \n",
              "2016-03-24  26.367500  26.562500  26.222500  26.417500  24.425974   \n",
              "2016-03-25  26.367500  26.562500  26.222500  26.417500  24.425974   \n",
              "2016-03-28  26.500000  26.547501  26.264999  26.297501  24.315018   \n",
              "2016-03-29  26.222500  26.947500  26.219999  26.920000  24.890591   \n",
              "2016-03-30  27.162500  27.605000  27.150000  27.389999  25.325161   \n",
              "2016-03-31  27.430000  27.475000  27.219999  27.247499  25.193399   \n",
              "2016-04-01  27.195000  27.500000  27.049999  27.497499  25.424551   \n",
              "2016-04-04  27.605000  28.047501  27.567499  27.780001  25.685762   \n",
              "\n",
              "                 Volume   returns  returns_1  returns_2  returns_3  returns_4  \\\n",
              "Date                                                                            \n",
              "2016-03-22  129777600.0  0.000000        NaN        NaN        NaN        NaN   \n",
              "2016-03-23  102814000.0 -0.005529   0.000000        NaN        NaN        NaN   \n",
              "2016-03-24  104532000.0 -0.004334  -0.005529   0.000000        NaN        NaN   \n",
              "2016-03-25  104532000.0  0.000000  -0.004334  -0.005529   0.000000        NaN   \n",
              "2016-03-28   77645600.0 -0.004542   0.000000  -0.004334  -0.005529   0.000000   \n",
              "2016-03-29  124760400.0  0.023671  -0.004542   0.000000  -0.004334  -0.005529   \n",
              "2016-03-30  182404400.0  0.017459   0.023671  -0.004542   0.000000  -0.004334   \n",
              "2016-03-31  103553600.0 -0.005203   0.017459   0.023671  -0.004542   0.000000   \n",
              "2016-04-01  103496000.0  0.009175  -0.005203   0.017459   0.023671  -0.004542   \n",
              "2016-04-04  149424800.0  0.010274   0.009175  -0.005203   0.017459   0.023671   \n",
              "\n",
              "            returns_5  \n",
              "Date                   \n",
              "2016-03-22        NaN  \n",
              "2016-03-23        NaN  \n",
              "2016-03-24        NaN  \n",
              "2016-03-25        NaN  \n",
              "2016-03-28        NaN  \n",
              "2016-03-29   0.000000  \n",
              "2016-03-30  -0.005529  \n",
              "2016-03-31  -0.004334  \n",
              "2016-04-01   0.000000  \n",
              "2016-04-04  -0.004542  "
            ],
            "text/html": [
              "\n",
              "  <div id=\"df-0210704e-9cab-4815-8271-7efee54d1dd2\">\n",
              "    <div class=\"colab-df-container\">\n",
              "      <div>\n",
              "<style scoped>\n",
              "    .dataframe tbody tr th:only-of-type {\n",
              "        vertical-align: middle;\n",
              "    }\n",
              "\n",
              "    .dataframe tbody tr th {\n",
              "        vertical-align: top;\n",
              "    }\n",
              "\n",
              "    .dataframe thead th {\n",
              "        text-align: right;\n",
              "    }\n",
              "</style>\n",
              "<table border=\"1\" class=\"dataframe\">\n",
              "  <thead>\n",
              "    <tr style=\"text-align: right;\">\n",
              "      <th></th>\n",
              "      <th>Open</th>\n",
              "      <th>High</th>\n",
              "      <th>Low</th>\n",
              "      <th>Close</th>\n",
              "      <th>Adj Close</th>\n",
              "      <th>Volume</th>\n",
              "      <th>returns</th>\n",
              "      <th>returns_1</th>\n",
              "      <th>returns_2</th>\n",
              "      <th>returns_3</th>\n",
              "      <th>returns_4</th>\n",
              "      <th>returns_5</th>\n",
              "    </tr>\n",
              "    <tr>\n",
              "      <th>Date</th>\n",
              "      <th></th>\n",
              "      <th></th>\n",
              "      <th></th>\n",
              "      <th></th>\n",
              "      <th></th>\n",
              "      <th></th>\n",
              "      <th></th>\n",
              "      <th></th>\n",
              "      <th></th>\n",
              "      <th></th>\n",
              "      <th></th>\n",
              "      <th></th>\n",
              "    </tr>\n",
              "  </thead>\n",
              "  <tbody>\n",
              "    <tr>\n",
              "      <th>2016-03-22</th>\n",
              "      <td>26.312500</td>\n",
              "      <td>26.822500</td>\n",
              "      <td>26.302500</td>\n",
              "      <td>26.680000</td>\n",
              "      <td>24.668690</td>\n",
              "      <td>129777600.0</td>\n",
              "      <td>0.000000</td>\n",
              "      <td>NaN</td>\n",
              "      <td>NaN</td>\n",
              "      <td>NaN</td>\n",
              "      <td>NaN</td>\n",
              "      <td>NaN</td>\n",
              "    </tr>\n",
              "    <tr>\n",
              "      <th>2016-03-23</th>\n",
              "      <td>26.620001</td>\n",
              "      <td>26.767500</td>\n",
              "      <td>26.475000</td>\n",
              "      <td>26.532499</td>\n",
              "      <td>24.532307</td>\n",
              "      <td>102814000.0</td>\n",
              "      <td>-0.005529</td>\n",
              "      <td>0.000000</td>\n",
              "      <td>NaN</td>\n",
              "      <td>NaN</td>\n",
              "      <td>NaN</td>\n",
              "      <td>NaN</td>\n",
              "    </tr>\n",
              "    <tr>\n",
              "      <th>2016-03-24</th>\n",
              "      <td>26.367500</td>\n",
              "      <td>26.562500</td>\n",
              "      <td>26.222500</td>\n",
              "      <td>26.417500</td>\n",
              "      <td>24.425974</td>\n",
              "      <td>104532000.0</td>\n",
              "      <td>-0.004334</td>\n",
              "      <td>-0.005529</td>\n",
              "      <td>0.000000</td>\n",
              "      <td>NaN</td>\n",
              "      <td>NaN</td>\n",
              "      <td>NaN</td>\n",
              "    </tr>\n",
              "    <tr>\n",
              "      <th>2016-03-25</th>\n",
              "      <td>26.367500</td>\n",
              "      <td>26.562500</td>\n",
              "      <td>26.222500</td>\n",
              "      <td>26.417500</td>\n",
              "      <td>24.425974</td>\n",
              "      <td>104532000.0</td>\n",
              "      <td>0.000000</td>\n",
              "      <td>-0.004334</td>\n",
              "      <td>-0.005529</td>\n",
              "      <td>0.000000</td>\n",
              "      <td>NaN</td>\n",
              "      <td>NaN</td>\n",
              "    </tr>\n",
              "    <tr>\n",
              "      <th>2016-03-28</th>\n",
              "      <td>26.500000</td>\n",
              "      <td>26.547501</td>\n",
              "      <td>26.264999</td>\n",
              "      <td>26.297501</td>\n",
              "      <td>24.315018</td>\n",
              "      <td>77645600.0</td>\n",
              "      <td>-0.004542</td>\n",
              "      <td>0.000000</td>\n",
              "      <td>-0.004334</td>\n",
              "      <td>-0.005529</td>\n",
              "      <td>0.000000</td>\n",
              "      <td>NaN</td>\n",
              "    </tr>\n",
              "    <tr>\n",
              "      <th>2016-03-29</th>\n",
              "      <td>26.222500</td>\n",
              "      <td>26.947500</td>\n",
              "      <td>26.219999</td>\n",
              "      <td>26.920000</td>\n",
              "      <td>24.890591</td>\n",
              "      <td>124760400.0</td>\n",
              "      <td>0.023671</td>\n",
              "      <td>-0.004542</td>\n",
              "      <td>0.000000</td>\n",
              "      <td>-0.004334</td>\n",
              "      <td>-0.005529</td>\n",
              "      <td>0.000000</td>\n",
              "    </tr>\n",
              "    <tr>\n",
              "      <th>2016-03-30</th>\n",
              "      <td>27.162500</td>\n",
              "      <td>27.605000</td>\n",
              "      <td>27.150000</td>\n",
              "      <td>27.389999</td>\n",
              "      <td>25.325161</td>\n",
              "      <td>182404400.0</td>\n",
              "      <td>0.017459</td>\n",
              "      <td>0.023671</td>\n",
              "      <td>-0.004542</td>\n",
              "      <td>0.000000</td>\n",
              "      <td>-0.004334</td>\n",
              "      <td>-0.005529</td>\n",
              "    </tr>\n",
              "    <tr>\n",
              "      <th>2016-03-31</th>\n",
              "      <td>27.430000</td>\n",
              "      <td>27.475000</td>\n",
              "      <td>27.219999</td>\n",
              "      <td>27.247499</td>\n",
              "      <td>25.193399</td>\n",
              "      <td>103553600.0</td>\n",
              "      <td>-0.005203</td>\n",
              "      <td>0.017459</td>\n",
              "      <td>0.023671</td>\n",
              "      <td>-0.004542</td>\n",
              "      <td>0.000000</td>\n",
              "      <td>-0.004334</td>\n",
              "    </tr>\n",
              "    <tr>\n",
              "      <th>2016-04-01</th>\n",
              "      <td>27.195000</td>\n",
              "      <td>27.500000</td>\n",
              "      <td>27.049999</td>\n",
              "      <td>27.497499</td>\n",
              "      <td>25.424551</td>\n",
              "      <td>103496000.0</td>\n",
              "      <td>0.009175</td>\n",
              "      <td>-0.005203</td>\n",
              "      <td>0.017459</td>\n",
              "      <td>0.023671</td>\n",
              "      <td>-0.004542</td>\n",
              "      <td>0.000000</td>\n",
              "    </tr>\n",
              "    <tr>\n",
              "      <th>2016-04-04</th>\n",
              "      <td>27.605000</td>\n",
              "      <td>28.047501</td>\n",
              "      <td>27.567499</td>\n",
              "      <td>27.780001</td>\n",
              "      <td>25.685762</td>\n",
              "      <td>149424800.0</td>\n",
              "      <td>0.010274</td>\n",
              "      <td>0.009175</td>\n",
              "      <td>-0.005203</td>\n",
              "      <td>0.017459</td>\n",
              "      <td>0.023671</td>\n",
              "      <td>-0.004542</td>\n",
              "    </tr>\n",
              "  </tbody>\n",
              "</table>\n",
              "</div>\n",
              "      <button class=\"colab-df-convert\" onclick=\"convertToInteractive('df-0210704e-9cab-4815-8271-7efee54d1dd2')\"\n",
              "              title=\"Convert this dataframe to an interactive table.\"\n",
              "              style=\"display:none;\">\n",
              "        \n",
              "  <svg xmlns=\"http://www.w3.org/2000/svg\" height=\"24px\"viewBox=\"0 0 24 24\"\n",
              "       width=\"24px\">\n",
              "    <path d=\"M0 0h24v24H0V0z\" fill=\"none\"/>\n",
              "    <path d=\"M18.56 5.44l.94 2.06.94-2.06 2.06-.94-2.06-.94-.94-2.06-.94 2.06-2.06.94zm-11 1L8.5 8.5l.94-2.06 2.06-.94-2.06-.94L8.5 2.5l-.94 2.06-2.06.94zm10 10l.94 2.06.94-2.06 2.06-.94-2.06-.94-.94-2.06-.94 2.06-2.06.94z\"/><path d=\"M17.41 7.96l-1.37-1.37c-.4-.4-.92-.59-1.43-.59-.52 0-1.04.2-1.43.59L10.3 9.45l-7.72 7.72c-.78.78-.78 2.05 0 2.83L4 21.41c.39.39.9.59 1.41.59.51 0 1.02-.2 1.41-.59l7.78-7.78 2.81-2.81c.8-.78.8-2.07 0-2.86zM5.41 20L4 18.59l7.72-7.72 1.47 1.35L5.41 20z\"/>\n",
              "  </svg>\n",
              "      </button>\n",
              "      \n",
              "  <style>\n",
              "    .colab-df-container {\n",
              "      display:flex;\n",
              "      flex-wrap:wrap;\n",
              "      gap: 12px;\n",
              "    }\n",
              "\n",
              "    .colab-df-convert {\n",
              "      background-color: #E8F0FE;\n",
              "      border: none;\n",
              "      border-radius: 50%;\n",
              "      cursor: pointer;\n",
              "      display: none;\n",
              "      fill: #1967D2;\n",
              "      height: 32px;\n",
              "      padding: 0 0 0 0;\n",
              "      width: 32px;\n",
              "    }\n",
              "\n",
              "    .colab-df-convert:hover {\n",
              "      background-color: #E2EBFA;\n",
              "      box-shadow: 0px 1px 2px rgba(60, 64, 67, 0.3), 0px 1px 3px 1px rgba(60, 64, 67, 0.15);\n",
              "      fill: #174EA6;\n",
              "    }\n",
              "\n",
              "    [theme=dark] .colab-df-convert {\n",
              "      background-color: #3B4455;\n",
              "      fill: #D2E3FC;\n",
              "    }\n",
              "\n",
              "    [theme=dark] .colab-df-convert:hover {\n",
              "      background-color: #434B5C;\n",
              "      box-shadow: 0px 1px 3px 1px rgba(0, 0, 0, 0.15);\n",
              "      filter: drop-shadow(0px 1px 2px rgba(0, 0, 0, 0.3));\n",
              "      fill: #FFFFFF;\n",
              "    }\n",
              "  </style>\n",
              "\n",
              "      <script>\n",
              "        const buttonEl =\n",
              "          document.querySelector('#df-0210704e-9cab-4815-8271-7efee54d1dd2 button.colab-df-convert');\n",
              "        buttonEl.style.display =\n",
              "          google.colab.kernel.accessAllowed ? 'block' : 'none';\n",
              "\n",
              "        async function convertToInteractive(key) {\n",
              "          const element = document.querySelector('#df-0210704e-9cab-4815-8271-7efee54d1dd2');\n",
              "          const dataTable =\n",
              "            await google.colab.kernel.invokeFunction('convertToInteractive',\n",
              "                                                     [key], {});\n",
              "          if (!dataTable) return;\n",
              "\n",
              "          const docLinkHtml = 'Like what you see? Visit the ' +\n",
              "            '<a target=\"_blank\" href=https://colab.research.google.com/notebooks/data_table.ipynb>data table notebook</a>'\n",
              "            + ' to learn more about interactive tables.';\n",
              "          element.innerHTML = '';\n",
              "          dataTable['output_type'] = 'display_data';\n",
              "          await google.colab.output.renderOutput(dataTable, element);\n",
              "          const docLink = document.createElement('div');\n",
              "          docLink.innerHTML = docLinkHtml;\n",
              "          element.appendChild(docLink);\n",
              "        }\n",
              "      </script>\n",
              "    </div>\n",
              "  </div>\n",
              "  "
            ]
          },
          "metadata": {},
          "execution_count": 13
        }
      ]
    },
    {
      "cell_type": "code",
      "source": [
        "df.fillna(0.0, inplace=True)"
      ],
      "metadata": {
        "id": "8Q-hxQnDBqT5"
      },
      "execution_count": 14,
      "outputs": []
    },
    {
      "cell_type": "code",
      "source": [
        "## install kats library. https://github.com/facebookresearch/Kats\n",
        "\n",
        "!pip install kats --quiet"
      ],
      "metadata": {
        "colab": {
          "base_uri": "https://localhost:8080/"
        },
        "id": "8Rniio7fCDYa",
        "outputId": "482416be-160d-46d2-9b2b-7aa407a6d943"
      },
      "execution_count": 15,
      "outputs": [
        {
          "output_type": "stream",
          "name": "stdout",
          "text": [
            "\u001b[K     |████████████████████████████████| 612 kB 5.2 MB/s \n",
            "\u001b[K     |████████████████████████████████| 3.3 MB 41.5 MB/s \n",
            "\u001b[K     |████████████████████████████████| 9.5 MB 25.1 MB/s \n",
            "\u001b[K     |████████████████████████████████| 950 kB 55.7 MB/s \n",
            "\u001b[K     |████████████████████████████████| 310 kB 71.4 MB/s \n",
            "\u001b[K     |████████████████████████████████| 347 kB 57.8 MB/s \n",
            "\u001b[K     |████████████████████████████████| 34.5 MB 15 kB/s \n",
            "\u001b[?25h  Building wheel for gpytorch (setup.py) ... \u001b[?25l\u001b[?25hdone\n"
          ]
        }
      ]
    },
    {
      "cell_type": "code",
      "source": [
        "from kats.consts import TimeSeriesData\n",
        "\n",
        "# Creating a Dataset object with Kats \n",
        "ts_data = TimeSeriesData(time = df.index , \n",
        "               value = df.returns, sort_by_time= True)\n",
        "\n",
        "type(ts_data)"
      ],
      "metadata": {
        "colab": {
          "base_uri": "https://localhost:8080/"
        },
        "id": "ZKUZOeM5CS5M",
        "outputId": "8284e560-978f-4f53-e02d-035b8c005a95"
      },
      "execution_count": 16,
      "outputs": [
        {
          "output_type": "execute_result",
          "data": {
            "text/plain": [
              "kats.consts.TimeSeriesData"
            ]
          },
          "metadata": {},
          "execution_count": 16
        }
      ]
    },
    {
      "cell_type": "code",
      "source": [
        "# Plotting the timeseries data \n",
        "import matplotlib.pyplot as plt\n",
        "\n",
        "ts_data.plot(cols=['returns'])\n",
        "plt.show()"
      ],
      "metadata": {
        "colab": {
          "base_uri": "https://localhost:8080/",
          "height": 451
        },
        "id": "dmmfpii0CuTC",
        "outputId": "921cf3e5-d100-410d-e96c-55a98a06db80"
      },
      "execution_count": 17,
      "outputs": [
        {
          "output_type": "display_data",
          "data": {
            "text/plain": [
              "<Figure size 720x432 with 1 Axes>"
            ],
            "image/png": "[encoded data removed]"
          },
          "metadata": {
            "needs_background": "light"
          }
        }
      ]
    },
    {
      "cell_type": "code",
      "source": [
        "#Importing the prophet \n",
        "from kats.models.prophet import ProphetModel , ProphetParams\n",
        "\n",
        "# Creating a model param instance \n",
        "params = ProphetParams(seasonality_mode= 'additive') \n",
        "\n",
        "# Create a prophet model instance\n",
        "model = ProphetModel(ts_data , params)\n",
        "\n",
        "model.fit() \n",
        "\n",
        "forecast = model.predict(steps= 1 , include_history= True , freq = '1W')"
      ],
      "metadata": {
        "colab": {
          "base_uri": "https://localhost:8080/"
        },
        "id": "RMfG7MhAC1vm",
        "outputId": "80f046b5-f585-4de5-bf1d-73450169550d"
      },
      "execution_count": 47,
      "outputs": [
        {
          "output_type": "stream",
          "name": "stderr",
          "text": [
            "INFO:fbprophet:Disabling daily seasonality. Run prophet with daily_seasonality=True to override this.\n"
          ]
        }
      ]
    },
    {
      "cell_type": "code",
      "source": [
        "model.plot()"
      ],
      "metadata": {
        "colab": {
          "base_uri": "https://localhost:8080/",
          "height": 458
        },
        "id": "xVm6mMtkpWty",
        "outputId": "19c5e1e1-9238-4218-c462-da90129c0026"
      },
      "execution_count": 44,
      "outputs": [
        {
          "output_type": "execute_result",
          "data": {
            "text/plain": [
              "<matplotlib.axes._subplots.AxesSubplot at 0x7efc75642090>"
            ]
          },
          "metadata": {},
          "execution_count": 44
        },
        {
          "output_type": "display_data",
          "data": {
            "text/plain": [
              "<Figure size 720x432 with 1 Axes>"
            ],
            "image/png": "[encoded data removed]"
          },
          "metadata": {}
        }
      ]
    },
    {
      "cell_type": "code",
      "source": [
        "forecast.head(10)\n"
      ],
      "metadata": {
        "colab": {
          "base_uri": "https://localhost:8080/",
          "height": 363
        },
        "id": "qtqi95z0DJA5",
        "outputId": "93a7445c-d98b-4631-8c64-256022d34c81"
      },
      "execution_count": 48,
      "outputs": [
        {
          "output_type": "execute_result",
          "data": {
            "text/plain": [
              "        time      fcst  fcst_lower  fcst_upper\n",
              "0 2016-03-22  0.001917   -0.021425    0.025670\n",
              "1 2016-03-23  0.002560   -0.020823    0.025820\n",
              "2 2016-03-24 -0.000667   -0.023906    0.021480\n",
              "3 2016-03-25 -0.000100   -0.024135    0.022083\n",
              "4 2016-03-28  0.004004   -0.018935    0.027916\n",
              "5 2016-03-29  0.003966   -0.018842    0.028426\n",
              "6 2016-03-30  0.004445   -0.019007    0.028225\n",
              "7 2016-03-31  0.001029   -0.022779    0.024916\n",
              "8 2016-04-01  0.001386   -0.021736    0.025934\n",
              "9 2016-04-04  0.004766   -0.018287    0.028963"
            ],
            "text/html": [
              "\n",
              "  <div id=\"df-5dda64a7-ae0d-49ac-b9d7-3a519b69b27d\">\n",
              "    <div class=\"colab-df-container\">\n",
              "      <div>\n",
              "<style scoped>\n",
              "    .dataframe tbody tr th:only-of-type {\n",
              "        vertical-align: middle;\n",
              "    }\n",
              "\n",
              "    .dataframe tbody tr th {\n",
              "        vertical-align: top;\n",
              "    }\n",
              "\n",
              "    .dataframe thead th {\n",
              "        text-align: right;\n",
              "    }\n",
              "</style>\n",
              "<table border=\"1\" class=\"dataframe\">\n",
              "  <thead>\n",
              "    <tr style=\"text-align: right;\">\n",
              "      <th></th>\n",
              "      <th>time</th>\n",
              "      <th>fcst</th>\n",
              "      <th>fcst_lower</th>\n",
              "      <th>fcst_upper</th>\n",
              "    </tr>\n",
              "  </thead>\n",
              "  <tbody>\n",
              "    <tr>\n",
              "      <th>0</th>\n",
              "      <td>2016-03-22</td>\n",
              "      <td>0.001917</td>\n",
              "      <td>-0.021425</td>\n",
              "      <td>0.025670</td>\n",
              "    </tr>\n",
              "    <tr>\n",
              "      <th>1</th>\n",
              "      <td>2016-03-23</td>\n",
              "      <td>0.002560</td>\n",
              "      <td>-0.020823</td>\n",
              "      <td>0.025820</td>\n",
              "    </tr>\n",
              "    <tr>\n",
              "      <th>2</th>\n",
              "      <td>2016-03-24</td>\n",
              "      <td>-0.000667</td>\n",
              "      <td>-0.023906</td>\n",
              "      <td>0.021480</td>\n",
              "    </tr>\n",
              "    <tr>\n",
              "      <th>3</th>\n",
              "      <td>2016-03-25</td>\n",
              "      <td>-0.000100</td>\n",
              "      <td>-0.024135</td>\n",
              "      <td>0.022083</td>\n",
              "    </tr>\n",
              "    <tr>\n",
              "      <th>4</th>\n",
              "      <td>2016-03-28</td>\n",
              "      <td>0.004004</td>\n",
              "      <td>-0.018935</td>\n",
              "      <td>0.027916</td>\n",
              "    </tr>\n",
              "    <tr>\n",
              "      <th>5</th>\n",
              "      <td>2016-03-29</td>\n",
              "      <td>0.003966</td>\n",
              "      <td>-0.018842</td>\n",
              "      <td>0.028426</td>\n",
              "    </tr>\n",
              "    <tr>\n",
              "      <th>6</th>\n",
              "      <td>2016-03-30</td>\n",
              "      <td>0.004445</td>\n",
              "      <td>-0.019007</td>\n",
              "      <td>0.028225</td>\n",
              "    </tr>\n",
              "    <tr>\n",
              "      <th>7</th>\n",
              "      <td>2016-03-31</td>\n",
              "      <td>0.001029</td>\n",
              "      <td>-0.022779</td>\n",
              "      <td>0.024916</td>\n",
              "    </tr>\n",
              "    <tr>\n",
              "      <th>8</th>\n",
              "      <td>2016-04-01</td>\n",
              "      <td>0.001386</td>\n",
              "      <td>-0.021736</td>\n",
              "      <td>0.025934</td>\n",
              "    </tr>\n",
              "    <tr>\n",
              "      <th>9</th>\n",
              "      <td>2016-04-04</td>\n",
              "      <td>0.004766</td>\n",
              "      <td>-0.018287</td>\n",
              "      <td>0.028963</td>\n",
              "    </tr>\n",
              "  </tbody>\n",
              "</table>\n",
              "</div>\n",
              "      <button class=\"colab-df-convert\" onclick=\"convertToInteractive('df-5dda64a7-ae0d-49ac-b9d7-3a519b69b27d')\"\n",
              "              title=\"Convert this dataframe to an interactive table.\"\n",
              "              style=\"display:none;\">\n",
              "        \n",
              "  <svg xmlns=\"http://www.w3.org/2000/svg\" height=\"24px\"viewBox=\"0 0 24 24\"\n",
              "       width=\"24px\">\n",
              "    <path d=\"M0 0h24v24H0V0z\" fill=\"none\"/>\n",
              "    <path d=\"M18.56 5.44l.94 2.06.94-2.06 2.06-.94-2.06-.94-.94-2.06-.94 2.06-2.06.94zm-11 1L8.5 8.5l.94-2.06 2.06-.94-2.06-.94L8.5 2.5l-.94 2.06-2.06.94zm10 10l.94 2.06.94-2.06 2.06-.94-2.06-.94-.94-2.06-.94 2.06-2.06.94z\"/><path d=\"M17.41 7.96l-1.37-1.37c-.4-.4-.92-.59-1.43-.59-.52 0-1.04.2-1.43.59L10.3 9.45l-7.72 7.72c-.78.78-.78 2.05 0 2.83L4 21.41c.39.39.9.59 1.41.59.51 0 1.02-.2 1.41-.59l7.78-7.78 2.81-2.81c.8-.78.8-2.07 0-2.86zM5.41 20L4 18.59l7.72-7.72 1.47 1.35L5.41 20z\"/>\n",
              "  </svg>\n",
              "      </button>\n",
              "      \n",
              "  <style>\n",
              "    .colab-df-container {\n",
              "      display:flex;\n",
              "      flex-wrap:wrap;\n",
              "      gap: 12px;\n",
              "    }\n",
              "\n",
              "    .colab-df-convert {\n",
              "      background-color: #E8F0FE;\n",
              "      border: none;\n",
              "      border-radius: 50%;\n",
              "      cursor: pointer;\n",
              "      display: none;\n",
              "      fill: #1967D2;\n",
              "      height: 32px;\n",
              "      padding: 0 0 0 0;\n",
              "      width: 32px;\n",
              "    }\n",
              "\n",
              "    .colab-df-convert:hover {\n",
              "      background-color: #E2EBFA;\n",
              "      box-shadow: 0px 1px 2px rgba(60, 64, 67, 0.3), 0px 1px 3px 1px rgba(60, 64, 67, 0.15);\n",
              "      fill: #174EA6;\n",
              "    }\n",
              "\n",
              "    [theme=dark] .colab-df-convert {\n",
              "      background-color: #3B4455;\n",
              "      fill: #D2E3FC;\n",
              "    }\n",
              "\n",
              "    [theme=dark] .colab-df-convert:hover {\n",
              "      background-color: #434B5C;\n",
              "      box-shadow: 0px 1px 3px 1px rgba(0, 0, 0, 0.15);\n",
              "      filter: drop-shadow(0px 1px 2px rgba(0, 0, 0, 0.3));\n",
              "      fill: #FFFFFF;\n",
              "    }\n",
              "  </style>\n",
              "\n",
              "      <script>\n",
              "        const buttonEl =\n",
              "          document.querySelector('#df-5dda64a7-ae0d-49ac-b9d7-3a519b69b27d button.colab-df-convert');\n",
              "        buttonEl.style.display =\n",
              "          google.colab.kernel.accessAllowed ? 'block' : 'none';\n",
              "\n",
              "        async function convertToInteractive(key) {\n",
              "          const element = document.querySelector('#df-5dda64a7-ae0d-49ac-b9d7-3a519b69b27d');\n",
              "          const dataTable =\n",
              "            await google.colab.kernel.invokeFunction('convertToInteractive',\n",
              "                                                     [key], {});\n",
              "          if (!dataTable) return;\n",
              "\n",
              "          const docLinkHtml = 'Like what you see? Visit the ' +\n",
              "            '<a target=\"_blank\" href=https://colab.research.google.com/notebooks/data_table.ipynb>data table notebook</a>'\n",
              "            + ' to learn more about interactive tables.';\n",
              "          element.innerHTML = '';\n",
              "          dataTable['output_type'] = 'display_data';\n",
              "          await google.colab.output.renderOutput(dataTable, element);\n",
              "          const docLink = document.createElement('div');\n",
              "          docLink.innerHTML = docLinkHtml;\n",
              "          element.appendChild(docLink);\n",
              "        }\n",
              "      </script>\n",
              "    </div>\n",
              "  </div>\n",
              "  "
            ]
          },
          "metadata": {},
          "execution_count": 48
        }
      ]
    },
    {
      "cell_type": "code",
      "source": [
        "forecast.set_index('time', inplace=True)"
      ],
      "metadata": {
        "id": "-EONjpVDskYo"
      },
      "execution_count": 53,
      "outputs": []
    },
    {
      "cell_type": "code",
      "source": [
        "forecast.head()"
      ],
      "metadata": {
        "colab": {
          "base_uri": "https://localhost:8080/",
          "height": 238
        },
        "id": "QSizZbP6soZ8",
        "outputId": "8736acf8-fb5c-46d7-d12d-e845ffa16756"
      },
      "execution_count": 54,
      "outputs": [
        {
          "output_type": "execute_result",
          "data": {
            "text/plain": [
              "                fcst  fcst_lower  fcst_upper\n",
              "time                                        \n",
              "2016-03-22  0.001917   -0.021425    0.025670\n",
              "2016-03-23  0.002560   -0.020823    0.025820\n",
              "2016-03-24 -0.000667   -0.023906    0.021480\n",
              "2016-03-25 -0.000100   -0.024135    0.022083\n",
              "2016-03-28  0.004004   -0.018935    0.027916"
            ],
            "text/html": [
              "\n",
              "  <div id=\"df-a5978097-886b-4cc1-929c-4c17966073c0\">\n",
              "    <div class=\"colab-df-container\">\n",
              "      <div>\n",
              "<style scoped>\n",
              "    .dataframe tbody tr th:only-of-type {\n",
              "        vertical-align: middle;\n",
              "    }\n",
              "\n",
              "    .dataframe tbody tr th {\n",
              "        vertical-align: top;\n",
              "    }\n",
              "\n",
              "    .dataframe thead th {\n",
              "        text-align: right;\n",
              "    }\n",
              "</style>\n",
              "<table border=\"1\" class=\"dataframe\">\n",
              "  <thead>\n",
              "    <tr style=\"text-align: right;\">\n",
              "      <th></th>\n",
              "      <th>fcst</th>\n",
              "      <th>fcst_lower</th>\n",
              "      <th>fcst_upper</th>\n",
              "    </tr>\n",
              "    <tr>\n",
              "      <th>time</th>\n",
              "      <th></th>\n",
              "      <th></th>\n",
              "      <th></th>\n",
              "    </tr>\n",
              "  </thead>\n",
              "  <tbody>\n",
              "    <tr>\n",
              "      <th>2016-03-22</th>\n",
              "      <td>0.001917</td>\n",
              "      <td>-0.021425</td>\n",
              "      <td>0.025670</td>\n",
              "    </tr>\n",
              "    <tr>\n",
              "      <th>2016-03-23</th>\n",
              "      <td>0.002560</td>\n",
              "      <td>-0.020823</td>\n",
              "      <td>0.025820</td>\n",
              "    </tr>\n",
              "    <tr>\n",
              "      <th>2016-03-24</th>\n",
              "      <td>-0.000667</td>\n",
              "      <td>-0.023906</td>\n",
              "      <td>0.021480</td>\n",
              "    </tr>\n",
              "    <tr>\n",
              "      <th>2016-03-25</th>\n",
              "      <td>-0.000100</td>\n",
              "      <td>-0.024135</td>\n",
              "      <td>0.022083</td>\n",
              "    </tr>\n",
              "    <tr>\n",
              "      <th>2016-03-28</th>\n",
              "      <td>0.004004</td>\n",
              "      <td>-0.018935</td>\n",
              "      <td>0.027916</td>\n",
              "    </tr>\n",
              "  </tbody>\n",
              "</table>\n",
              "</div>\n",
              "      <button class=\"colab-df-convert\" onclick=\"convertToInteractive('df-a5978097-886b-4cc1-929c-4c17966073c0')\"\n",
              "              title=\"Convert this dataframe to an interactive table.\"\n",
              "              style=\"display:none;\">\n",
              "        \n",
              "  <svg xmlns=\"http://www.w3.org/2000/svg\" height=\"24px\"viewBox=\"0 0 24 24\"\n",
              "       width=\"24px\">\n",
              "    <path d=\"M0 0h24v24H0V0z\" fill=\"none\"/>\n",
              "    <path d=\"M18.56 5.44l.94 2.06.94-2.06 2.06-.94-2.06-.94-.94-2.06-.94 2.06-2.06.94zm-11 1L8.5 8.5l.94-2.06 2.06-.94-2.06-.94L8.5 2.5l-.94 2.06-2.06.94zm10 10l.94 2.06.94-2.06 2.06-.94-2.06-.94-.94-2.06-.94 2.06-2.06.94z\"/><path d=\"M17.41 7.96l-1.37-1.37c-.4-.4-.92-.59-1.43-.59-.52 0-1.04.2-1.43.59L10.3 9.45l-7.72 7.72c-.78.78-.78 2.05 0 2.83L4 21.41c.39.39.9.59 1.41.59.51 0 1.02-.2 1.41-.59l7.78-7.78 2.81-2.81c.8-.78.8-2.07 0-2.86zM5.41 20L4 18.59l7.72-7.72 1.47 1.35L5.41 20z\"/>\n",
              "  </svg>\n",
              "      </button>\n",
              "      \n",
              "  <style>\n",
              "    .colab-df-container {\n",
              "      display:flex;\n",
              "      flex-wrap:wrap;\n",
              "      gap: 12px;\n",
              "    }\n",
              "\n",
              "    .colab-df-convert {\n",
              "      background-color: #E8F0FE;\n",
              "      border: none;\n",
              "      border-radius: 50%;\n",
              "      cursor: pointer;\n",
              "      display: none;\n",
              "      fill: #1967D2;\n",
              "      height: 32px;\n",
              "      padding: 0 0 0 0;\n",
              "      width: 32px;\n",
              "    }\n",
              "\n",
              "    .colab-df-convert:hover {\n",
              "      background-color: #E2EBFA;\n",
              "      box-shadow: 0px 1px 2px rgba(60, 64, 67, 0.3), 0px 1px 3px 1px rgba(60, 64, 67, 0.15);\n",
              "      fill: #174EA6;\n",
              "    }\n",
              "\n",
              "    [theme=dark] .colab-df-convert {\n",
              "      background-color: #3B4455;\n",
              "      fill: #D2E3FC;\n",
              "    }\n",
              "\n",
              "    [theme=dark] .colab-df-convert:hover {\n",
              "      background-color: #434B5C;\n",
              "      box-shadow: 0px 1px 3px 1px rgba(0, 0, 0, 0.15);\n",
              "      filter: drop-shadow(0px 1px 2px rgba(0, 0, 0, 0.3));\n",
              "      fill: #FFFFFF;\n",
              "    }\n",
              "  </style>\n",
              "\n",
              "      <script>\n",
              "        const buttonEl =\n",
              "          document.querySelector('#df-a5978097-886b-4cc1-929c-4c17966073c0 button.colab-df-convert');\n",
              "        buttonEl.style.display =\n",
              "          google.colab.kernel.accessAllowed ? 'block' : 'none';\n",
              "\n",
              "        async function convertToInteractive(key) {\n",
              "          const element = document.querySelector('#df-a5978097-886b-4cc1-929c-4c17966073c0');\n",
              "          const dataTable =\n",
              "            await google.colab.kernel.invokeFunction('convertToInteractive',\n",
              "                                                     [key], {});\n",
              "          if (!dataTable) return;\n",
              "\n",
              "          const docLinkHtml = 'Like what you see? Visit the ' +\n",
              "            '<a target=\"_blank\" href=https://colab.research.google.com/notebooks/data_table.ipynb>data table notebook</a>'\n",
              "            + ' to learn more about interactive tables.';\n",
              "          element.innerHTML = '';\n",
              "          dataTable['output_type'] = 'display_data';\n",
              "          await google.colab.output.renderOutput(dataTable, element);\n",
              "          const docLink = document.createElement('div');\n",
              "          docLink.innerHTML = docLinkHtml;\n",
              "          element.appendChild(docLink);\n",
              "        }\n",
              "      </script>\n",
              "    </div>\n",
              "  </div>\n",
              "  "
            ]
          },
          "metadata": {},
          "execution_count": 54
        }
      ]
    },
    {
      "cell_type": "code",
      "source": [
        "df.head()"
      ],
      "metadata": {
        "colab": {
          "base_uri": "https://localhost:8080/",
          "height": 238
        },
        "id": "vyorHScnrub3",
        "outputId": "153272f7-2fcd-4d89-a0a9-68093b8a3906"
      },
      "execution_count": 52,
      "outputs": [
        {
          "output_type": "execute_result",
          "data": {
            "text/plain": [
              "                 Open       High        Low      Close  Adj Close  \\\n",
              "Date                                                                \n",
              "2016-03-22  26.312500  26.822500  26.302500  26.680000  24.668690   \n",
              "2016-03-23  26.620001  26.767500  26.475000  26.532499  24.532307   \n",
              "2016-03-24  26.367500  26.562500  26.222500  26.417500  24.425974   \n",
              "2016-03-25  26.367500  26.562500  26.222500  26.417500  24.425974   \n",
              "2016-03-28  26.500000  26.547501  26.264999  26.297501  24.315018   \n",
              "\n",
              "                 Volume   returns  returns_1  returns_2  returns_3  returns_4  \\\n",
              "Date                                                                            \n",
              "2016-03-22  129777600.0  0.000000   0.000000   0.000000   0.000000        0.0   \n",
              "2016-03-23  102814000.0 -0.005529   0.000000   0.000000   0.000000        0.0   \n",
              "2016-03-24  104532000.0 -0.004334  -0.005529   0.000000   0.000000        0.0   \n",
              "2016-03-25  104532000.0  0.000000  -0.004334  -0.005529   0.000000        0.0   \n",
              "2016-03-28   77645600.0 -0.004542   0.000000  -0.004334  -0.005529        0.0   \n",
              "\n",
              "            returns_5  \n",
              "Date                   \n",
              "2016-03-22        0.0  \n",
              "2016-03-23        0.0  \n",
              "2016-03-24        0.0  \n",
              "2016-03-25        0.0  \n",
              "2016-03-28        0.0  "
            ],
            "text/html": [
              "\n",
              "  <div id=\"df-09564b83-c438-4b5a-b269-f2ba3dbc94cd\">\n",
              "    <div class=\"colab-df-container\">\n",
              "      <div>\n",
              "<style scoped>\n",
              "    .dataframe tbody tr th:only-of-type {\n",
              "        vertical-align: middle;\n",
              "    }\n",
              "\n",
              "    .dataframe tbody tr th {\n",
              "        vertical-align: top;\n",
              "    }\n",
              "\n",
              "    .dataframe thead th {\n",
              "        text-align: right;\n",
              "    }\n",
              "</style>\n",
              "<table border=\"1\" class=\"dataframe\">\n",
              "  <thead>\n",
              "    <tr style=\"text-align: right;\">\n",
              "      <th></th>\n",
              "      <th>Open</th>\n",
              "      <th>High</th>\n",
              "      <th>Low</th>\n",
              "      <th>Close</th>\n",
              "      <th>Adj Close</th>\n",
              "      <th>Volume</th>\n",
              "      <th>returns</th>\n",
              "      <th>returns_1</th>\n",
              "      <th>returns_2</th>\n",
              "      <th>returns_3</th>\n",
              "      <th>returns_4</th>\n",
              "      <th>returns_5</th>\n",
              "    </tr>\n",
              "    <tr>\n",
              "      <th>Date</th>\n",
              "      <th></th>\n",
              "      <th></th>\n",
              "      <th></th>\n",
              "      <th></th>\n",
              "      <th></th>\n",
              "      <th></th>\n",
              "      <th></th>\n",
              "      <th></th>\n",
              "      <th></th>\n",
              "      <th></th>\n",
              "      <th></th>\n",
              "      <th></th>\n",
              "    </tr>\n",
              "  </thead>\n",
              "  <tbody>\n",
              "    <tr>\n",
              "      <th>2016-03-22</th>\n",
              "      <td>26.312500</td>\n",
              "      <td>26.822500</td>\n",
              "      <td>26.302500</td>\n",
              "      <td>26.680000</td>\n",
              "      <td>24.668690</td>\n",
              "      <td>129777600.0</td>\n",
              "      <td>0.000000</td>\n",
              "      <td>0.000000</td>\n",
              "      <td>0.000000</td>\n",
              "      <td>0.000000</td>\n",
              "      <td>0.0</td>\n",
              "      <td>0.0</td>\n",
              "    </tr>\n",
              "    <tr>\n",
              "      <th>2016-03-23</th>\n",
              "      <td>26.620001</td>\n",
              "      <td>26.767500</td>\n",
              "      <td>26.475000</td>\n",
              "      <td>26.532499</td>\n",
              "      <td>24.532307</td>\n",
              "      <td>102814000.0</td>\n",
              "      <td>-0.005529</td>\n",
              "      <td>0.000000</td>\n",
              "      <td>0.000000</td>\n",
              "      <td>0.000000</td>\n",
              "      <td>0.0</td>\n",
              "      <td>0.0</td>\n",
              "    </tr>\n",
              "    <tr>\n",
              "      <th>2016-03-24</th>\n",
              "      <td>26.367500</td>\n",
              "      <td>26.562500</td>\n",
              "      <td>26.222500</td>\n",
              "      <td>26.417500</td>\n",
              "      <td>24.425974</td>\n",
              "      <td>104532000.0</td>\n",
              "      <td>-0.004334</td>\n",
              "      <td>-0.005529</td>\n",
              "      <td>0.000000</td>\n",
              "      <td>0.000000</td>\n",
              "      <td>0.0</td>\n",
              "      <td>0.0</td>\n",
              "    </tr>\n",
              "    <tr>\n",
              "      <th>2016-03-25</th>\n",
              "      <td>26.367500</td>\n",
              "      <td>26.562500</td>\n",
              "      <td>26.222500</td>\n",
              "      <td>26.417500</td>\n",
              "      <td>24.425974</td>\n",
              "      <td>104532000.0</td>\n",
              "      <td>0.000000</td>\n",
              "      <td>-0.004334</td>\n",
              "      <td>-0.005529</td>\n",
              "      <td>0.000000</td>\n",
              "      <td>0.0</td>\n",
              "      <td>0.0</td>\n",
              "    </tr>\n",
              "    <tr>\n",
              "      <th>2016-03-28</th>\n",
              "      <td>26.500000</td>\n",
              "      <td>26.547501</td>\n",
              "      <td>26.264999</td>\n",
              "      <td>26.297501</td>\n",
              "      <td>24.315018</td>\n",
              "      <td>77645600.0</td>\n",
              "      <td>-0.004542</td>\n",
              "      <td>0.000000</td>\n",
              "      <td>-0.004334</td>\n",
              "      <td>-0.005529</td>\n",
              "      <td>0.0</td>\n",
              "      <td>0.0</td>\n",
              "    </tr>\n",
              "  </tbody>\n",
              "</table>\n",
              "</div>\n",
              "      <button class=\"colab-df-convert\" onclick=\"convertToInteractive('df-09564b83-c438-4b5a-b269-f2ba3dbc94cd')\"\n",
              "              title=\"Convert this dataframe to an interactive table.\"\n",
              "              style=\"display:none;\">\n",
              "        \n",
              "  <svg xmlns=\"http://www.w3.org/2000/svg\" height=\"24px\"viewBox=\"0 0 24 24\"\n",
              "       width=\"24px\">\n",
              "    <path d=\"M0 0h24v24H0V0z\" fill=\"none\"/>\n",
              "    <path d=\"M18.56 5.44l.94 2.06.94-2.06 2.06-.94-2.06-.94-.94-2.06-.94 2.06-2.06.94zm-11 1L8.5 8.5l.94-2.06 2.06-.94-2.06-.94L8.5 2.5l-.94 2.06-2.06.94zm10 10l.94 2.06.94-2.06 2.06-.94-2.06-.94-.94-2.06-.94 2.06-2.06.94z\"/><path d=\"M17.41 7.96l-1.37-1.37c-.4-.4-.92-.59-1.43-.59-.52 0-1.04.2-1.43.59L10.3 9.45l-7.72 7.72c-.78.78-.78 2.05 0 2.83L4 21.41c.39.39.9.59 1.41.59.51 0 1.02-.2 1.41-.59l7.78-7.78 2.81-2.81c.8-.78.8-2.07 0-2.86zM5.41 20L4 18.59l7.72-7.72 1.47 1.35L5.41 20z\"/>\n",
              "  </svg>\n",
              "      </button>\n",
              "      \n",
              "  <style>\n",
              "    .colab-df-container {\n",
              "      display:flex;\n",
              "      flex-wrap:wrap;\n",
              "      gap: 12px;\n",
              "    }\n",
              "\n",
              "    .colab-df-convert {\n",
              "      background-color: #E8F0FE;\n",
              "      border: none;\n",
              "      border-radius: 50%;\n",
              "      cursor: pointer;\n",
              "      display: none;\n",
              "      fill: #1967D2;\n",
              "      height: 32px;\n",
              "      padding: 0 0 0 0;\n",
              "      width: 32px;\n",
              "    }\n",
              "\n",
              "    .colab-df-convert:hover {\n",
              "      background-color: #E2EBFA;\n",
              "      box-shadow: 0px 1px 2px rgba(60, 64, 67, 0.3), 0px 1px 3px 1px rgba(60, 64, 67, 0.15);\n",
              "      fill: #174EA6;\n",
              "    }\n",
              "\n",
              "    [theme=dark] .colab-df-convert {\n",
              "      background-color: #3B4455;\n",
              "      fill: #D2E3FC;\n",
              "    }\n",
              "\n",
              "    [theme=dark] .colab-df-convert:hover {\n",
              "      background-color: #434B5C;\n",
              "      box-shadow: 0px 1px 3px 1px rgba(0, 0, 0, 0.15);\n",
              "      filter: drop-shadow(0px 1px 2px rgba(0, 0, 0, 0.3));\n",
              "      fill: #FFFFFF;\n",
              "    }\n",
              "  </style>\n",
              "\n",
              "      <script>\n",
              "        const buttonEl =\n",
              "          document.querySelector('#df-09564b83-c438-4b5a-b269-f2ba3dbc94cd button.colab-df-convert');\n",
              "        buttonEl.style.display =\n",
              "          google.colab.kernel.accessAllowed ? 'block' : 'none';\n",
              "\n",
              "        async function convertToInteractive(key) {\n",
              "          const element = document.querySelector('#df-09564b83-c438-4b5a-b269-f2ba3dbc94cd');\n",
              "          const dataTable =\n",
              "            await google.colab.kernel.invokeFunction('convertToInteractive',\n",
              "                                                     [key], {});\n",
              "          if (!dataTable) return;\n",
              "\n",
              "          const docLinkHtml = 'Like what you see? Visit the ' +\n",
              "            '<a target=\"_blank\" href=https://colab.research.google.com/notebooks/data_table.ipynb>data table notebook</a>'\n",
              "            + ' to learn more about interactive tables.';\n",
              "          element.innerHTML = '';\n",
              "          dataTable['output_type'] = 'display_data';\n",
              "          await google.colab.output.renderOutput(dataTable, element);\n",
              "          const docLink = document.createElement('div');\n",
              "          docLink.innerHTML = docLinkHtml;\n",
              "          element.appendChild(docLink);\n",
              "        }\n",
              "      </script>\n",
              "    </div>\n",
              "  </div>\n",
              "  "
            ]
          },
          "metadata": {},
          "execution_count": 52
        }
      ]
    },
    {
      "cell_type": "markdown",
      "source": [
        "### Compute Insample Profit 💰💰💰💰"
      ],
      "metadata": {
        "id": "UkICvGbmv9xw"
      }
    },
    {
      "cell_type": "code",
      "source": [
        "result = pd.concat([df, forecast], axis=1, join=\"inner\")"
      ],
      "metadata": {
        "id": "inc0UyutsO8a"
      },
      "execution_count": 55,
      "outputs": []
    },
    {
      "cell_type": "code",
      "source": [
        "result['fcst_close'] = result['fcst'] * result['Close'] + result['Close']\n",
        "result['fcst_close_low'] = result['fcst_lower'] * result['Close'] + result['Close']\n",
        "result['fcst_close_upper'] = result['fcst_upper'] * result['Close'] + result['Close']\n"
      ],
      "metadata": {
        "id": "EV5yKnwVs2Xd"
      },
      "execution_count": 58,
      "outputs": []
    },
    {
      "cell_type": "code",
      "source": [
        "result['fcst_close'] = result['fcst_close'].shift(periods=1)\n",
        "result['fcst_close_low'] = result['fcst_close_low'].shift(periods=1)\n",
        "result['fcst_close_upper'] = result['fcst_close_upper'].shift(periods=1)"
      ],
      "metadata": {
        "id": "_FY1Npv8uwKR"
      },
      "execution_count": null,
      "outputs": []
    },
    {
      "cell_type": "code",
      "source": [
        "result['profit'] = 0\n",
        "result['profit'] = 100.0 * np.where(result['Open'] < result['fcst_close_low'], result['Close']- result['Open'],\n",
        "                            np.where(result['Open'] > result['fcst_close_upper'], result['Open'] - result['Close'], 0.0))\n",
        "\n",
        "result['rate_of_return'] = 0\n",
        "result['rate_of_return'] = np.where(result['Open'] < result['fcst_close_low'], (result['Close']- result['Open']) / result['Open'],\n",
        "                            np.where(result['Open'] > result['fcst_close_upper'], (result['Open'] - result['Close']) / result['Open'], 0.0))"
      ],
      "metadata": {
        "id": "DTClaTZ0uv7r"
      },
      "execution_count": 71,
      "outputs": []
    },
    {
      "cell_type": "code",
      "source": [
        "result['cum_return'] = (1.0 + result['rate_of_return']).cumprod()"
      ],
      "metadata": {
        "id": "RAVKg34QyzNk"
      },
      "execution_count": 72,
      "outputs": []
    },
    {
      "cell_type": "code",
      "source": [
        "result['cum_return'].plot()"
      ],
      "metadata": {
        "colab": {
          "base_uri": "https://localhost:8080/",
          "height": 282
        },
        "id": "UiU6BS-Uy_dt",
        "outputId": "9b486c5f-4e3d-47bb-f40f-b177932606d9"
      },
      "execution_count": 73,
      "outputs": [
        {
          "output_type": "execute_result",
          "data": {
            "text/plain": [
              "<matplotlib.axes._subplots.AxesSubplot at 0x7efc74176a90>"
            ]
          },
          "metadata": {},
          "execution_count": 73
        },
        {
          "output_type": "display_data",
          "data": {
            "text/plain": [
              "<Figure size 432x288 with 1 Axes>"
            ],
            "image/png": "[encoded data removed]"
          },
          "metadata": {
            "needs_background": "light"
          }
        }
      ]
    },
    {
      "cell_type": "code",
      "source": [
        "result['cum_profit'] = result['profit'].cumsum()"
      ],
      "metadata": {
        "id": "aBfSFJqSpWqA"
      },
      "execution_count": 74,
      "outputs": []
    },
    {
      "cell_type": "code",
      "source": [
        "result['cum_profit'].plot()"
      ],
      "metadata": {
        "colab": {
          "base_uri": "https://localhost:8080/",
          "height": 282
        },
        "id": "tydKp_9FzPg_",
        "outputId": "d146f286-34ae-4162-d87a-a40fc57e9001"
      },
      "execution_count": 75,
      "outputs": [
        {
          "output_type": "execute_result",
          "data": {
            "text/plain": [
              "<matplotlib.axes._subplots.AxesSubplot at 0x7efc740e4b10>"
            ]
          },
          "metadata": {},
          "execution_count": 75
        },
        {
          "output_type": "display_data",
          "data": {
            "text/plain": [
              "<Figure size 432x288 with 1 Axes>"
            ],
            "image/png": "[encoded data removed]"
          },
          "metadata": {
            "needs_background": "light"
          }
        }
      ]
    },
    {
      "cell_type": "code",
      "source": [
        "result['profit'].describe()"
      ],
      "metadata": {
        "colab": {
          "base_uri": "https://localhost:8080/"
        },
        "id": "bGraSJgvpWha",
        "outputId": "37647d6c-464a-4ba8-b3e7-b6df76ff14e7"
      },
      "execution_count": 69,
      "outputs": [
        {
          "output_type": "execute_result",
          "data": {
            "text/plain": [
              "count    1565.000000\n",
              "mean       24.311497\n",
              "std        91.759365\n",
              "min         0.000000\n",
              "25%         0.000000\n",
              "50%         0.000000\n",
              "75%         0.000000\n",
              "max      1016.000300\n",
              "Name: profit, dtype: float64"
            ]
          },
          "metadata": {},
          "execution_count": 69
        }
      ]
    },
    {
      "cell_type": "code",
      "source": [
        "result[result['profit'] != 0]['profit'].describe()"
      ],
      "metadata": {
        "colab": {
          "base_uri": "https://localhost:8080/"
        },
        "id": "SoiFc3H2wafn",
        "outputId": "35d73e4c-d577-449e-d95d-6b37a8dc81d2"
      },
      "execution_count": 70,
      "outputs": [
        {
          "output_type": "execute_result",
          "data": {
            "text/plain": [
              "count     137.000000\n",
              "mean      277.718923\n",
              "std       161.040286\n",
              "min        59.500100\n",
              "25%       139.500000\n",
              "50%       263.000100\n",
              "75%       386.999500\n",
              "max      1016.000300\n",
              "Name: profit, dtype: float64"
            ]
          },
          "metadata": {},
          "execution_count": 70
        }
      ]
    },
    {
      "cell_type": "code",
      "source": [
        "print(f\"Cummulative profit over 5 years with intraday trading no overnight position (trading 100 lots): {result['cum_profit'].iloc[-1]}\")"
      ],
      "metadata": {
        "colab": {
          "base_uri": "https://localhost:8080/"
        },
        "id": "V8gwhjCXztu8",
        "outputId": "676a1bf0-63bd-430a-de15-747c64f7a0cf"
      },
      "execution_count": 77,
      "outputs": [
        {
          "output_type": "stream",
          "name": "stdout",
          "text": [
            "Cummulative profit over 5 years with intraday trading no overnight position (trading 100 lots): 38047.4925\n"
          ]
        }
      ]
    },
    {
      "cell_type": "code",
      "source": [
        "print(f\"Cummulative return over 5 years with intraday trading no overnight position: {result['cum_return'].iloc[-1]}\")"
      ],
      "metadata": {
        "colab": {
          "base_uri": "https://localhost:8080/"
        },
        "id": "c_lLZSxozZ4X",
        "outputId": "545fde98-05c1-4b60-b9af-72a441394ba9"
      },
      "execution_count": 76,
      "outputs": [
        {
          "output_type": "stream",
          "name": "stdout",
          "text": [
            "Cummulative return over 5 years with intraday trading no overnight position: 70.32139609296915\n"
          ]
        }
      ]
    },
    {
      "cell_type": "markdown",
      "source": [
        "##**Summary**\n",
        "\n",
        "\n",
        "\n",
        "1.   Our strategy trades on 137 days out of 1565 in our in-sample data\n",
        "2.   Strategy has no negative days.\n",
        "3.   Trading 100 lots has a cummulative profit of $38047. This corresponds to a cummulative return of 7032%. Note that this is with no overnight position and intraday trading. (ie relatively low risk strategy)\n",
        "\n",
        "\n",
        "### Intentionally ignored out of sample evaluation, feature engineering, improvements to not disclose proprietary information"
      ],
      "metadata": {
        "id": "46I8onmpwyjl"
      }
    }
  ]
}