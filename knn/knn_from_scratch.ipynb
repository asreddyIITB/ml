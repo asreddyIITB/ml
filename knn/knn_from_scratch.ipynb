{
  "nbformat": 4,
  "nbformat_minor": 0,
  "metadata": {
    "colab": {
      "name": "knn_from_scratch.ipynb",
      "provenance": []
    },
    "kernelspec": {
      "name": "python3",
      "display_name": "Python 3"
    },
    "language_info": {
      "name": "python"
    }
  },
  "cells": [
    {
      "cell_type": "markdown",
      "source": [
        "#Implement K-nearest neighbor (KNN) from scratch"
      ],
      "metadata": {
        "id": "r0ug3iloFcFX"
      }
    },
    {
      "cell_type": "code",
      "source": [
        "import numpy as np"
      ],
      "metadata": {
        "id": "xS59NelCFc4r"
      },
      "execution_count": 1,
      "outputs": []
    },
    {
      "cell_type": "code",
      "source": [
        "class KNN:\n",
        "    def __init__(self, k):\n",
        "      self.k = k\n",
        "\n",
        "    def train(self, X, y):\n",
        "      self.X_train = X\n",
        "      self.y_train = y\n",
        "\n",
        "    def predict(self, X_test):\n",
        "      distances = self.compute_distance(X_test)\n",
        "      return self.predict_labels(X_test, distances)\n",
        "\n",
        "    def compute_distance(self, X_test):\n",
        "      num_test = X_test.shape[0]\n",
        "      num_train = self.X_train.shape[0]\n",
        "      distances = np.zeros((num_test, num_train))\n",
        "\n",
        "      for i in range(num_test):\n",
        "          # Ignored taking square root. As sqrt is monotonous and would not change the result.\n",
        "          distances[i, :] = np.sum((self.X_train - X_test[i, :]) ** 2, axis=1)\n",
        "\n",
        "      return distances\n",
        "\n",
        "    def predict_labels(self, X_test, distances):\n",
        "      y_pred = np.zeros(X_test.shape[0])\n",
        "      for i in range(X_test.shape[0]):\n",
        "          y_indices = np.argsort(distances[i, :])\n",
        "          knn_possible_classes = self.y_train[y_indices[: self.k]].astype(int)\n",
        "          y_pred[i] = np.argmax(np.bincount(knn_possible_classes))\n",
        "\n",
        "      return y_pred"
      ],
      "metadata": {
        "id": "kHHPqckKFc2I"
      },
      "execution_count": 2,
      "outputs": []
    },
    {
      "cell_type": "markdown",
      "source": [
        "## Predict on Iris data"
      ],
      "metadata": {
        "id": "WhYc4BuUJeM9"
      }
    },
    {
      "cell_type": "code",
      "source": [
        "#import iris dataset\n",
        "from sklearn import datasets\n",
        "\n",
        "iris = datasets.load_iris()\n",
        "#load only two features\n",
        "X = iris.data\n",
        "y = iris.target"
      ],
      "metadata": {
        "id": "T62lkTKMJvz8"
      },
      "execution_count": 3,
      "outputs": []
    },
    {
      "cell_type": "code",
      "source": [
        "from sklearn.model_selection import train_test_split\n",
        "\n",
        "X_train, X_test, y_train, y_test = train_test_split(X, y, test_size=0.3, random_state=1, stratify=y)\n",
        "\n",
        "print('Num of types in y:', np.bincount(y))\n",
        "print('Num of types in y_test:', np.bincount(y_test))\n",
        "print('Num of types in y_train:', np.bincount(y_train))"
      ],
      "metadata": {
        "colab": {
          "base_uri": "https://localhost:8080/"
        },
        "id": "fwdjFozrJWOq",
        "outputId": "2708a57e-86bb-4394-a5df-a2ee835a7228"
      },
      "execution_count": 7,
      "outputs": [
        {
          "output_type": "stream",
          "name": "stdout",
          "text": [
            "Num of types in y: [50 50 50]\n",
            "Num of types in y_test: [15 15 15]\n",
            "Num of types in y_train: [35 35 35]\n"
          ]
        }
      ]
    },
    {
      "cell_type": "code",
      "source": [
        "knn_cf = KNN(k=3)\n",
        "knn_cf.train(X_train, y_train)\n",
        "y_pred = knn_cf.predict(X_test)\n",
        "print(f\"Accuracy: {sum(y_pred == y_test) / y_test.shape[0]}\")"
      ],
      "metadata": {
        "colab": {
          "base_uri": "https://localhost:8080/"
        },
        "id": "bdPw8TwnKHLH",
        "outputId": "eb16e0e5-44ed-437d-f846-1376772f66df"
      },
      "execution_count": 9,
      "outputs": [
        {
          "output_type": "stream",
          "name": "stdout",
          "text": [
            "Accuracy: 0.9777777777777777\n"
          ]
        }
      ]
    },
    {
      "cell_type": "markdown",
      "source": [
        "## Predict using sklearn and compare"
      ],
      "metadata": {
        "id": "xMNdcnEZLHFe"
      }
    },
    {
      "cell_type": "code",
      "source": [
        "#Lets apply KNN\n",
        "from sklearn.neighbors import KNeighborsClassifier\n",
        "\n",
        "knn_cf_sk = KNeighborsClassifier(n_neighbors=3)\n",
        "knn_cf_sk.fit(X_train, y_train)\n",
        "y_pred_sk = knn_cf_sk.predict(X_test)\n",
        "print(f\"Accuracy: {sum(y_pred_sk == y_test) / y_test.shape[0]}\")"
      ],
      "metadata": {
        "colab": {
          "base_uri": "https://localhost:8080/"
        },
        "id": "r1AceUcvK2II",
        "outputId": "43fd3d80-a98b-49c6-dec7-94a69107efc0"
      },
      "execution_count": 11,
      "outputs": [
        {
          "output_type": "stream",
          "name": "stdout",
          "text": [
            "Accuracy: 0.9777777777777777\n"
          ]
        }
      ]
    },
    {
      "cell_type": "code",
      "source": [
        ""
      ],
      "metadata": {
        "id": "TdNSPlXtLs-N"
      },
      "execution_count": null,
      "outputs": []
    }
  ]
}